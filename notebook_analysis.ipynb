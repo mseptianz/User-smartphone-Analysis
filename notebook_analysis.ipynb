{
 "cells": [
  {
   "cell_type": "markdown",
   "metadata": {},
   "source": [
    "# Intoduction\n",
    "\n",
    "👋Hello this is my profile\n",
    "I’m Muhammad Septian Zamzani, a Data Scientist driven by a passion for turning raw data into meaningful insights. With robust training from Hacktiv8’s Full Time Data Science program and a experience background in industries such as Creative, and education, I'm skilled at using data to solve practical issues in real-world and support strategic business decisions📊🔍.\n",
    "\n",
    "You can check my recent project [Click Here](https://github.com/mseptianz)\n",
    "\n"
   ]
  },
  {
   "cell_type": "markdown",
   "metadata": {},
   "source": [
    "# Import Libraries\n",
    "---"
   ]
  },
  {
   "cell_type": "code",
   "execution_count": null,
   "metadata": {},
   "outputs": [],
   "source": [
    "import pandas as pd \n",
    "import numpy as np \n",
    "import random \n",
    "\n",
    "import warnings\n",
    "warnings.filterwarnings('ignore')\n",
    "\n",
    "import matplotlib.pyplot as plt \n",
    "import matplotlib.cm as cm\n",
    "\n",
    "import seaborn as sns \n",
    "import plotly.express as px\n",
    "import plotly.graph_objects as go\n",
    "from scipy.stats import norm\n",
    "\n",
    "\n"
   ]
  },
  {
   "cell_type": "markdown",
   "metadata": {},
   "source": [
    "# Create Sample Data\n",
    "---"
   ]
  },
  {
   "cell_type": "code",
   "execution_count": 2,
   "metadata": {},
   "outputs": [],
   "source": [
    "# '''\n",
    "# - Sample data akan dibuat menggunakan Library random yang dapat membuat data sebanyak yang kita inginkan secara acak,\n",
    "# - Data awal memiliki variabel \"Nama Lokasi\", \"Jam Login\", \"Nama, Email\", \"No Telp\", \"Tahun Lahir\", \"Merk HP\", \"Digital Interest\", \"Location Type\",\n",
    "# - Data memiliki 1000 baris\n",
    "# '''\n",
    "# sample_data = { \n",
    "#     \"Nama_Lokasi\": [random.choice(['Jakarta','Bandung','Bekasi','Solo','Semarang','Yogyakarta','Denpasar','Surabaya','Balikpapan','Depok'])for _ in range(1000)],\n",
    "#     \"Jam_Login\":[f\"{random.randint(0,23):02d}:{random.randint(0,59):02d}\" for _ in range(1000)],\n",
    "#     \"Nama\":[f\"User_{i}\"for i in range(1,1001)],\n",
    "#     \"Email\":[f\"user{i}@gmail.com\" for i in range(1,1001)],\n",
    "#     \"No_Telp\":[f\"08{random.randint(1000000000, 9999999999)}\" for _ in range(1000)],\n",
    "#     \"Tahun_Lahir\": [random.randint(1970,2010)for _ in range(1000)],\n",
    "#     \"Merk_Hp\":[random.choice(['Apple','Vivo','Samsung','Xiaomi','Redmi','Oppo'])for _ in range(1000)],\n",
    "#     \"Digital_Interest\":[random.choice(['Gaming','Streaming','Shopping','Social Media'])for _ in range(1000)],\n",
    "#     \"Location Type\": [random.choice([\"Kota\", \"Desa\"]) for _ in range(1000)]\n",
    "# }\n",
    "\n",
    "# data = pd.DataFrame(sample_data)\n"
   ]
  },
  {
   "cell_type": "markdown",
   "metadata": {},
   "source": [
    "Setelah Pembuatan sample data berhasil, data akan diexport kedalam file dengan format csv"
   ]
  },
  {
   "cell_type": "code",
   "execution_count": 3,
   "metadata": {},
   "outputs": [],
   "source": [
    "# data.to_csv('data.csv', index=False)\n"
   ]
  },
  {
   "cell_type": "markdown",
   "metadata": {},
   "source": [
    "# Data Dictionary\n",
    "---\n",
    "\n",
    "| **Field Name**      | **Description**                                             |\n",
    "|---------------------|-------------------------------------------------------------|\n",
    "| Nama Lokasi         | Lokasi geografis pengguna.                                   |\n",
    "| Jam Login           | Waktu login pengguna ke sistem.                             |\n",
    "| Nama                | Nama pengguna.                                               |\n",
    "| Email               | Alamat email pengguna.                                       |\n",
    "| No Telp             | Nomor telepon pengguna.                                      |\n",
    "| Tahun Lahir         | Tahun kelahiran pengguna.                                    |\n",
    "| Merk HP             | Merk smartphone pengguna.                                    |\n",
    "| Digital Interest    | Ketertarikan pengguna di bidang digital.                     |\n",
    "| Zona Lokasi         | Tipe wilayah pengguna (urban atau rural).                    |\n"
   ]
  },
  {
   "cell_type": "markdown",
   "metadata": {},
   "source": [
    "**Problem Statement**\n",
    "\n",
    "\"Perusahaan ingin menganalisis preferensi merek ponsel dan pola aktivitas digital berdasarkan kelompok usia (dewasa, remaja, lansia) dalam 1 bulan untuk mengidentifikasi waktu penggunaan dan jenis aktivitas yang paling dominan. Berdasarkan hasil analisis ini, perusahaan akan merancang strategi pemasaran yang terfokus dan meningkatkan pengalaman pengguna dalam 2 bulan untuk meningkatkan keterlibatan dan penjualan.\"\n",
    "\n",
    "**SMART**\n",
    "- Specific (Spesifik):\n",
    "    - Menganalisis preferensi merek ponsel dan pola aktivitas digital berdasarkan kelompok usia (dewasa, remaja, lansia).\n",
    "\n",
    "- Measurable (Terukur):\n",
    "    - Analisis dilakukan untuk setiap kelompok usia dan preferensi merek ponsel.\n",
    "    - Mengukur pola aktivitas digital berdasarkan waktu (pagi, siang, malam).\n",
    "\n",
    "- Achievable (Tercapai):\n",
    "    - Data yang tersedia sudah cukup untuk menganalisis preferensi dan pola aktivitas pengguna.\n",
    "    - Tim pemasaran dapat merancang strategi berdasarkan analisis ini.\n",
    "\n",
    "- Relevant (Relevan):\n",
    "    - Analisis ini akan membantu perusahaan memahami target pasar dan preferensi konsumen.\n",
    "    - Ini akan mempengaruhi strategi pemasaran dan meningkatkan penjualan.\n",
    "\n",
    "- Time-bound (Terbatas Waktu):\n",
    "    - Analisis akan diselesaikan dalam 1 bulan.\n"
   ]
  },
  {
   "cell_type": "markdown",
   "metadata": {},
   "source": [
    "# Load Data\n",
    "---"
   ]
  },
  {
   "cell_type": "code",
   "execution_count": 4,
   "metadata": {},
   "outputs": [],
   "source": [
    "df = pd.read_csv(\"data.csv\")"
   ]
  },
  {
   "cell_type": "code",
   "execution_count": 5,
   "metadata": {},
   "outputs": [
    {
     "data": {
      "text/html": [
       "<div>\n",
       "<style scoped>\n",
       "    .dataframe tbody tr th:only-of-type {\n",
       "        vertical-align: middle;\n",
       "    }\n",
       "\n",
       "    .dataframe tbody tr th {\n",
       "        vertical-align: top;\n",
       "    }\n",
       "\n",
       "    .dataframe thead th {\n",
       "        text-align: right;\n",
       "    }\n",
       "</style>\n",
       "<table border=\"1\" class=\"dataframe\">\n",
       "  <thead>\n",
       "    <tr style=\"text-align: right;\">\n",
       "      <th></th>\n",
       "      <th>Nama_Lokasi</th>\n",
       "      <th>Jam_Login</th>\n",
       "      <th>Nama</th>\n",
       "      <th>Email</th>\n",
       "      <th>No_Telp</th>\n",
       "      <th>Tahun_Lahir</th>\n",
       "      <th>Merk_Hp</th>\n",
       "      <th>Digital_Interest</th>\n",
       "      <th>Location Type</th>\n",
       "    </tr>\n",
       "  </thead>\n",
       "  <tbody>\n",
       "    <tr>\n",
       "      <th>0</th>\n",
       "      <td>Bandung</td>\n",
       "      <td>3:44</td>\n",
       "      <td>User_1</td>\n",
       "      <td>user1@gmail.com</td>\n",
       "      <td>87695329652</td>\n",
       "      <td>2002</td>\n",
       "      <td>Redmi</td>\n",
       "      <td>Social Media</td>\n",
       "      <td>Kota</td>\n",
       "    </tr>\n",
       "    <tr>\n",
       "      <th>1</th>\n",
       "      <td>Balikpapan</td>\n",
       "      <td>18:24</td>\n",
       "      <td>User_2</td>\n",
       "      <td>user2@gmail.com</td>\n",
       "      <td>89578827034</td>\n",
       "      <td>1990</td>\n",
       "      <td>Oppo</td>\n",
       "      <td>Streaming</td>\n",
       "      <td>Kota</td>\n",
       "    </tr>\n",
       "    <tr>\n",
       "      <th>2</th>\n",
       "      <td>Yogyakarta</td>\n",
       "      <td>2:58</td>\n",
       "      <td>User_3</td>\n",
       "      <td>user3@gmail.com</td>\n",
       "      <td>88744960621</td>\n",
       "      <td>1996</td>\n",
       "      <td>Oppo</td>\n",
       "      <td>Streaming</td>\n",
       "      <td>Kota</td>\n",
       "    </tr>\n",
       "    <tr>\n",
       "      <th>3</th>\n",
       "      <td>Solo</td>\n",
       "      <td>20:02</td>\n",
       "      <td>User_4</td>\n",
       "      <td>user4@gmail.com</td>\n",
       "      <td>84411528625</td>\n",
       "      <td>1984</td>\n",
       "      <td>Redmi</td>\n",
       "      <td>Gaming</td>\n",
       "      <td>Kota</td>\n",
       "    </tr>\n",
       "    <tr>\n",
       "      <th>4</th>\n",
       "      <td>Jakarta</td>\n",
       "      <td>7:12</td>\n",
       "      <td>User_5</td>\n",
       "      <td>user5@gmail.com</td>\n",
       "      <td>83602433440</td>\n",
       "      <td>1980</td>\n",
       "      <td>Xiaomi</td>\n",
       "      <td>Shopping</td>\n",
       "      <td>Desa</td>\n",
       "    </tr>\n",
       "  </tbody>\n",
       "</table>\n",
       "</div>"
      ],
      "text/plain": [
       "  Nama_Lokasi Jam_Login    Nama            Email      No_Telp  Tahun_Lahir  \\\n",
       "0     Bandung      3:44  User_1  user1@gmail.com  87695329652         2002   \n",
       "1  Balikpapan     18:24  User_2  user2@gmail.com  89578827034         1990   \n",
       "2  Yogyakarta      2:58  User_3  user3@gmail.com  88744960621         1996   \n",
       "3        Solo     20:02  User_4  user4@gmail.com  84411528625         1984   \n",
       "4     Jakarta      7:12  User_5  user5@gmail.com  83602433440         1980   \n",
       "\n",
       "  Merk_Hp Digital_Interest Location Type  \n",
       "0   Redmi     Social Media          Kota  \n",
       "1    Oppo        Streaming          Kota  \n",
       "2    Oppo        Streaming          Kota  \n",
       "3   Redmi           Gaming          Kota  \n",
       "4  Xiaomi         Shopping          Desa  "
      ]
     },
     "execution_count": 5,
     "metadata": {},
     "output_type": "execute_result"
    }
   ],
   "source": [
    "df.head()"
   ]
  },
  {
   "cell_type": "markdown",
   "metadata": {},
   "source": [
    "Dari Kolom-kolom yang sudah ada, akan dibuat beberapa kolom baru untuk mempermudah kita saat melakukan analisis,diantaranya :\n",
    "- \"Usia\" : Hasil dari tahun saat ini dikurangi dengan `Tahun_Lahir`\n",
    "- \"Kategori_Usia\" : Hasil dari pengelompokan usia menjadi\n",
    "    - Anak-anak (0-12 tahun)\n",
    "    - Remaja (13-17 tahun)\n",
    "    - Dewasa (18-59 tahun)\n",
    "    - Lansia (> 60 tahun)\n",
    "- \"Waktu_login\": Membagi jam login menjadi waktu tertentu :\n",
    "    - Pagi (05:00-11:59)\n",
    "    - Siang (12:00-16:59)\n",
    "    - Malam (17:00-23:59)\n",
    "    - Dini Hari (23:00-04:59)"
   ]
  },
  {
   "cell_type": "markdown",
   "metadata": {},
   "source": [
    "# Add New Variable\n",
    "---"
   ]
  },
  {
   "cell_type": "code",
   "execution_count": 6,
   "metadata": {},
   "outputs": [
    {
     "data": {
      "text/html": [
       "<div>\n",
       "<style scoped>\n",
       "    .dataframe tbody tr th:only-of-type {\n",
       "        vertical-align: middle;\n",
       "    }\n",
       "\n",
       "    .dataframe tbody tr th {\n",
       "        vertical-align: top;\n",
       "    }\n",
       "\n",
       "    .dataframe thead th {\n",
       "        text-align: right;\n",
       "    }\n",
       "</style>\n",
       "<table border=\"1\" class=\"dataframe\">\n",
       "  <thead>\n",
       "    <tr style=\"text-align: right;\">\n",
       "      <th></th>\n",
       "      <th>Nama_Lokasi</th>\n",
       "      <th>Jam_Login</th>\n",
       "      <th>Nama</th>\n",
       "      <th>Email</th>\n",
       "      <th>No_Telp</th>\n",
       "      <th>Tahun_Lahir</th>\n",
       "      <th>Merk_Hp</th>\n",
       "      <th>Digital_Interest</th>\n",
       "      <th>Location Type</th>\n",
       "      <th>Usia</th>\n",
       "    </tr>\n",
       "  </thead>\n",
       "  <tbody>\n",
       "    <tr>\n",
       "      <th>0</th>\n",
       "      <td>Bandung</td>\n",
       "      <td>3:44</td>\n",
       "      <td>User_1</td>\n",
       "      <td>user1@gmail.com</td>\n",
       "      <td>87695329652</td>\n",
       "      <td>2002</td>\n",
       "      <td>Redmi</td>\n",
       "      <td>Social Media</td>\n",
       "      <td>Kota</td>\n",
       "      <td>22</td>\n",
       "    </tr>\n",
       "    <tr>\n",
       "      <th>1</th>\n",
       "      <td>Balikpapan</td>\n",
       "      <td>18:24</td>\n",
       "      <td>User_2</td>\n",
       "      <td>user2@gmail.com</td>\n",
       "      <td>89578827034</td>\n",
       "      <td>1990</td>\n",
       "      <td>Oppo</td>\n",
       "      <td>Streaming</td>\n",
       "      <td>Kota</td>\n",
       "      <td>34</td>\n",
       "    </tr>\n",
       "    <tr>\n",
       "      <th>2</th>\n",
       "      <td>Yogyakarta</td>\n",
       "      <td>2:58</td>\n",
       "      <td>User_3</td>\n",
       "      <td>user3@gmail.com</td>\n",
       "      <td>88744960621</td>\n",
       "      <td>1996</td>\n",
       "      <td>Oppo</td>\n",
       "      <td>Streaming</td>\n",
       "      <td>Kota</td>\n",
       "      <td>28</td>\n",
       "    </tr>\n",
       "    <tr>\n",
       "      <th>3</th>\n",
       "      <td>Solo</td>\n",
       "      <td>20:02</td>\n",
       "      <td>User_4</td>\n",
       "      <td>user4@gmail.com</td>\n",
       "      <td>84411528625</td>\n",
       "      <td>1984</td>\n",
       "      <td>Redmi</td>\n",
       "      <td>Gaming</td>\n",
       "      <td>Kota</td>\n",
       "      <td>40</td>\n",
       "    </tr>\n",
       "    <tr>\n",
       "      <th>4</th>\n",
       "      <td>Jakarta</td>\n",
       "      <td>7:12</td>\n",
       "      <td>User_5</td>\n",
       "      <td>user5@gmail.com</td>\n",
       "      <td>83602433440</td>\n",
       "      <td>1980</td>\n",
       "      <td>Xiaomi</td>\n",
       "      <td>Shopping</td>\n",
       "      <td>Desa</td>\n",
       "      <td>44</td>\n",
       "    </tr>\n",
       "    <tr>\n",
       "      <th>...</th>\n",
       "      <td>...</td>\n",
       "      <td>...</td>\n",
       "      <td>...</td>\n",
       "      <td>...</td>\n",
       "      <td>...</td>\n",
       "      <td>...</td>\n",
       "      <td>...</td>\n",
       "      <td>...</td>\n",
       "      <td>...</td>\n",
       "      <td>...</td>\n",
       "    </tr>\n",
       "    <tr>\n",
       "      <th>995</th>\n",
       "      <td>Yogyakarta</td>\n",
       "      <td>5:11</td>\n",
       "      <td>User_996</td>\n",
       "      <td>user996@gmail.com</td>\n",
       "      <td>87645912180</td>\n",
       "      <td>1987</td>\n",
       "      <td>Xiaomi</td>\n",
       "      <td>Social Media</td>\n",
       "      <td>Kota</td>\n",
       "      <td>37</td>\n",
       "    </tr>\n",
       "    <tr>\n",
       "      <th>996</th>\n",
       "      <td>Denpasar</td>\n",
       "      <td>18:44</td>\n",
       "      <td>User_997</td>\n",
       "      <td>user997@gmail.com</td>\n",
       "      <td>84966859364</td>\n",
       "      <td>1982</td>\n",
       "      <td>Samsung</td>\n",
       "      <td>Gaming</td>\n",
       "      <td>Kota</td>\n",
       "      <td>42</td>\n",
       "    </tr>\n",
       "    <tr>\n",
       "      <th>997</th>\n",
       "      <td>Jakarta</td>\n",
       "      <td>20:03</td>\n",
       "      <td>User_998</td>\n",
       "      <td>user998@gmail.com</td>\n",
       "      <td>81863828986</td>\n",
       "      <td>1979</td>\n",
       "      <td>Xiaomi</td>\n",
       "      <td>Shopping</td>\n",
       "      <td>Desa</td>\n",
       "      <td>45</td>\n",
       "    </tr>\n",
       "    <tr>\n",
       "      <th>998</th>\n",
       "      <td>Denpasar</td>\n",
       "      <td>1:20</td>\n",
       "      <td>User_999</td>\n",
       "      <td>user999@gmail.com</td>\n",
       "      <td>88129791262</td>\n",
       "      <td>2002</td>\n",
       "      <td>Redmi</td>\n",
       "      <td>Streaming</td>\n",
       "      <td>Kota</td>\n",
       "      <td>22</td>\n",
       "    </tr>\n",
       "    <tr>\n",
       "      <th>999</th>\n",
       "      <td>Solo</td>\n",
       "      <td>11:10</td>\n",
       "      <td>User_1000</td>\n",
       "      <td>user1000@gmail.com</td>\n",
       "      <td>85336897659</td>\n",
       "      <td>1993</td>\n",
       "      <td>Redmi</td>\n",
       "      <td>Gaming</td>\n",
       "      <td>Desa</td>\n",
       "      <td>31</td>\n",
       "    </tr>\n",
       "  </tbody>\n",
       "</table>\n",
       "<p>1000 rows × 10 columns</p>\n",
       "</div>"
      ],
      "text/plain": [
       "    Nama_Lokasi Jam_Login       Nama               Email      No_Telp  \\\n",
       "0       Bandung      3:44     User_1     user1@gmail.com  87695329652   \n",
       "1    Balikpapan     18:24     User_2     user2@gmail.com  89578827034   \n",
       "2    Yogyakarta      2:58     User_3     user3@gmail.com  88744960621   \n",
       "3          Solo     20:02     User_4     user4@gmail.com  84411528625   \n",
       "4       Jakarta      7:12     User_5     user5@gmail.com  83602433440   \n",
       "..          ...       ...        ...                 ...          ...   \n",
       "995  Yogyakarta      5:11   User_996   user996@gmail.com  87645912180   \n",
       "996    Denpasar     18:44   User_997   user997@gmail.com  84966859364   \n",
       "997     Jakarta     20:03   User_998   user998@gmail.com  81863828986   \n",
       "998    Denpasar      1:20   User_999   user999@gmail.com  88129791262   \n",
       "999        Solo     11:10  User_1000  user1000@gmail.com  85336897659   \n",
       "\n",
       "     Tahun_Lahir  Merk_Hp Digital_Interest Location Type  Usia  \n",
       "0           2002    Redmi     Social Media          Kota    22  \n",
       "1           1990     Oppo        Streaming          Kota    34  \n",
       "2           1996     Oppo        Streaming          Kota    28  \n",
       "3           1984    Redmi           Gaming          Kota    40  \n",
       "4           1980   Xiaomi         Shopping          Desa    44  \n",
       "..           ...      ...              ...           ...   ...  \n",
       "995         1987   Xiaomi     Social Media          Kota    37  \n",
       "996         1982  Samsung           Gaming          Kota    42  \n",
       "997         1979   Xiaomi         Shopping          Desa    45  \n",
       "998         2002    Redmi        Streaming          Kota    22  \n",
       "999         1993    Redmi           Gaming          Desa    31  \n",
       "\n",
       "[1000 rows x 10 columns]"
      ]
     },
     "execution_count": 6,
     "metadata": {},
     "output_type": "execute_result"
    }
   ],
   "source": [
    "# Membuat Kolom Usia\n",
    "df['Usia'] = 2024 - df['Tahun_Lahir']\n",
    "df"
   ]
  },
  {
   "cell_type": "code",
   "execution_count": 7,
   "metadata": {},
   "outputs": [
    {
     "data": {
      "text/html": [
       "<div>\n",
       "<style scoped>\n",
       "    .dataframe tbody tr th:only-of-type {\n",
       "        vertical-align: middle;\n",
       "    }\n",
       "\n",
       "    .dataframe tbody tr th {\n",
       "        vertical-align: top;\n",
       "    }\n",
       "\n",
       "    .dataframe thead th {\n",
       "        text-align: right;\n",
       "    }\n",
       "</style>\n",
       "<table border=\"1\" class=\"dataframe\">\n",
       "  <thead>\n",
       "    <tr style=\"text-align: right;\">\n",
       "      <th></th>\n",
       "      <th>Nama_Lokasi</th>\n",
       "      <th>Jam_Login</th>\n",
       "      <th>Nama</th>\n",
       "      <th>Email</th>\n",
       "      <th>No_Telp</th>\n",
       "      <th>Tahun_Lahir</th>\n",
       "      <th>Merk_Hp</th>\n",
       "      <th>Digital_Interest</th>\n",
       "      <th>Location Type</th>\n",
       "      <th>Usia</th>\n",
       "      <th>Kategori_Usia</th>\n",
       "    </tr>\n",
       "  </thead>\n",
       "  <tbody>\n",
       "    <tr>\n",
       "      <th>0</th>\n",
       "      <td>Bandung</td>\n",
       "      <td>3:44</td>\n",
       "      <td>User_1</td>\n",
       "      <td>user1@gmail.com</td>\n",
       "      <td>87695329652</td>\n",
       "      <td>2002</td>\n",
       "      <td>Redmi</td>\n",
       "      <td>Social Media</td>\n",
       "      <td>Kota</td>\n",
       "      <td>22</td>\n",
       "      <td>Dewasa</td>\n",
       "    </tr>\n",
       "    <tr>\n",
       "      <th>1</th>\n",
       "      <td>Balikpapan</td>\n",
       "      <td>18:24</td>\n",
       "      <td>User_2</td>\n",
       "      <td>user2@gmail.com</td>\n",
       "      <td>89578827034</td>\n",
       "      <td>1990</td>\n",
       "      <td>Oppo</td>\n",
       "      <td>Streaming</td>\n",
       "      <td>Kota</td>\n",
       "      <td>34</td>\n",
       "      <td>Dewasa</td>\n",
       "    </tr>\n",
       "    <tr>\n",
       "      <th>2</th>\n",
       "      <td>Yogyakarta</td>\n",
       "      <td>2:58</td>\n",
       "      <td>User_3</td>\n",
       "      <td>user3@gmail.com</td>\n",
       "      <td>88744960621</td>\n",
       "      <td>1996</td>\n",
       "      <td>Oppo</td>\n",
       "      <td>Streaming</td>\n",
       "      <td>Kota</td>\n",
       "      <td>28</td>\n",
       "      <td>Dewasa</td>\n",
       "    </tr>\n",
       "    <tr>\n",
       "      <th>3</th>\n",
       "      <td>Solo</td>\n",
       "      <td>20:02</td>\n",
       "      <td>User_4</td>\n",
       "      <td>user4@gmail.com</td>\n",
       "      <td>84411528625</td>\n",
       "      <td>1984</td>\n",
       "      <td>Redmi</td>\n",
       "      <td>Gaming</td>\n",
       "      <td>Kota</td>\n",
       "      <td>40</td>\n",
       "      <td>Dewasa</td>\n",
       "    </tr>\n",
       "    <tr>\n",
       "      <th>4</th>\n",
       "      <td>Jakarta</td>\n",
       "      <td>7:12</td>\n",
       "      <td>User_5</td>\n",
       "      <td>user5@gmail.com</td>\n",
       "      <td>83602433440</td>\n",
       "      <td>1980</td>\n",
       "      <td>Xiaomi</td>\n",
       "      <td>Shopping</td>\n",
       "      <td>Desa</td>\n",
       "      <td>44</td>\n",
       "      <td>Dewasa</td>\n",
       "    </tr>\n",
       "    <tr>\n",
       "      <th>...</th>\n",
       "      <td>...</td>\n",
       "      <td>...</td>\n",
       "      <td>...</td>\n",
       "      <td>...</td>\n",
       "      <td>...</td>\n",
       "      <td>...</td>\n",
       "      <td>...</td>\n",
       "      <td>...</td>\n",
       "      <td>...</td>\n",
       "      <td>...</td>\n",
       "      <td>...</td>\n",
       "    </tr>\n",
       "    <tr>\n",
       "      <th>995</th>\n",
       "      <td>Yogyakarta</td>\n",
       "      <td>5:11</td>\n",
       "      <td>User_996</td>\n",
       "      <td>user996@gmail.com</td>\n",
       "      <td>87645912180</td>\n",
       "      <td>1987</td>\n",
       "      <td>Xiaomi</td>\n",
       "      <td>Social Media</td>\n",
       "      <td>Kota</td>\n",
       "      <td>37</td>\n",
       "      <td>Dewasa</td>\n",
       "    </tr>\n",
       "    <tr>\n",
       "      <th>996</th>\n",
       "      <td>Denpasar</td>\n",
       "      <td>18:44</td>\n",
       "      <td>User_997</td>\n",
       "      <td>user997@gmail.com</td>\n",
       "      <td>84966859364</td>\n",
       "      <td>1982</td>\n",
       "      <td>Samsung</td>\n",
       "      <td>Gaming</td>\n",
       "      <td>Kota</td>\n",
       "      <td>42</td>\n",
       "      <td>Dewasa</td>\n",
       "    </tr>\n",
       "    <tr>\n",
       "      <th>997</th>\n",
       "      <td>Jakarta</td>\n",
       "      <td>20:03</td>\n",
       "      <td>User_998</td>\n",
       "      <td>user998@gmail.com</td>\n",
       "      <td>81863828986</td>\n",
       "      <td>1979</td>\n",
       "      <td>Xiaomi</td>\n",
       "      <td>Shopping</td>\n",
       "      <td>Desa</td>\n",
       "      <td>45</td>\n",
       "      <td>Dewasa</td>\n",
       "    </tr>\n",
       "    <tr>\n",
       "      <th>998</th>\n",
       "      <td>Denpasar</td>\n",
       "      <td>1:20</td>\n",
       "      <td>User_999</td>\n",
       "      <td>user999@gmail.com</td>\n",
       "      <td>88129791262</td>\n",
       "      <td>2002</td>\n",
       "      <td>Redmi</td>\n",
       "      <td>Streaming</td>\n",
       "      <td>Kota</td>\n",
       "      <td>22</td>\n",
       "      <td>Dewasa</td>\n",
       "    </tr>\n",
       "    <tr>\n",
       "      <th>999</th>\n",
       "      <td>Solo</td>\n",
       "      <td>11:10</td>\n",
       "      <td>User_1000</td>\n",
       "      <td>user1000@gmail.com</td>\n",
       "      <td>85336897659</td>\n",
       "      <td>1993</td>\n",
       "      <td>Redmi</td>\n",
       "      <td>Gaming</td>\n",
       "      <td>Desa</td>\n",
       "      <td>31</td>\n",
       "      <td>Dewasa</td>\n",
       "    </tr>\n",
       "  </tbody>\n",
       "</table>\n",
       "<p>1000 rows × 11 columns</p>\n",
       "</div>"
      ],
      "text/plain": [
       "    Nama_Lokasi Jam_Login       Nama               Email      No_Telp  \\\n",
       "0       Bandung      3:44     User_1     user1@gmail.com  87695329652   \n",
       "1    Balikpapan     18:24     User_2     user2@gmail.com  89578827034   \n",
       "2    Yogyakarta      2:58     User_3     user3@gmail.com  88744960621   \n",
       "3          Solo     20:02     User_4     user4@gmail.com  84411528625   \n",
       "4       Jakarta      7:12     User_5     user5@gmail.com  83602433440   \n",
       "..          ...       ...        ...                 ...          ...   \n",
       "995  Yogyakarta      5:11   User_996   user996@gmail.com  87645912180   \n",
       "996    Denpasar     18:44   User_997   user997@gmail.com  84966859364   \n",
       "997     Jakarta     20:03   User_998   user998@gmail.com  81863828986   \n",
       "998    Denpasar      1:20   User_999   user999@gmail.com  88129791262   \n",
       "999        Solo     11:10  User_1000  user1000@gmail.com  85336897659   \n",
       "\n",
       "     Tahun_Lahir  Merk_Hp Digital_Interest Location Type  Usia Kategori_Usia  \n",
       "0           2002    Redmi     Social Media          Kota    22        Dewasa  \n",
       "1           1990     Oppo        Streaming          Kota    34        Dewasa  \n",
       "2           1996     Oppo        Streaming          Kota    28        Dewasa  \n",
       "3           1984    Redmi           Gaming          Kota    40        Dewasa  \n",
       "4           1980   Xiaomi         Shopping          Desa    44        Dewasa  \n",
       "..           ...      ...              ...           ...   ...           ...  \n",
       "995         1987   Xiaomi     Social Media          Kota    37        Dewasa  \n",
       "996         1982  Samsung           Gaming          Kota    42        Dewasa  \n",
       "997         1979   Xiaomi         Shopping          Desa    45        Dewasa  \n",
       "998         2002    Redmi        Streaming          Kota    22        Dewasa  \n",
       "999         1993    Redmi           Gaming          Desa    31        Dewasa  \n",
       "\n",
       "[1000 rows x 11 columns]"
      ]
     },
     "execution_count": 7,
     "metadata": {},
     "output_type": "execute_result"
    }
   ],
   "source": [
    "# Membagi Kategori usia\n",
    "def kategori_usia(usia):\n",
    "    if usia < 12:\n",
    "        return 'Anak-anak'\n",
    "    elif usia > 12 and usia < 17:\n",
    "        return 'Remaja'\n",
    "    elif usia > 17 and usia < 60: \n",
    "        return 'Dewasa'\n",
    "    else : \n",
    "        return 'Lansia'\n",
    "# Menggunakan fungsi \"kategori_usia\" pada kolom usia untuk membuat kolom Kategori_Usia\n",
    "df['Kategori_Usia'] = df['Usia'].apply(kategori_usia)\n",
    "df"
   ]
  },
  {
   "cell_type": "code",
   "execution_count": 8,
   "metadata": {},
   "outputs": [
    {
     "data": {
      "text/html": [
       "<div>\n",
       "<style scoped>\n",
       "    .dataframe tbody tr th:only-of-type {\n",
       "        vertical-align: middle;\n",
       "    }\n",
       "\n",
       "    .dataframe tbody tr th {\n",
       "        vertical-align: top;\n",
       "    }\n",
       "\n",
       "    .dataframe thead th {\n",
       "        text-align: right;\n",
       "    }\n",
       "</style>\n",
       "<table border=\"1\" class=\"dataframe\">\n",
       "  <thead>\n",
       "    <tr style=\"text-align: right;\">\n",
       "      <th></th>\n",
       "      <th>Nama_Lokasi</th>\n",
       "      <th>Jam_Login</th>\n",
       "      <th>Nama</th>\n",
       "      <th>Email</th>\n",
       "      <th>No_Telp</th>\n",
       "      <th>Tahun_Lahir</th>\n",
       "      <th>Merk_Hp</th>\n",
       "      <th>Digital_Interest</th>\n",
       "      <th>Location Type</th>\n",
       "      <th>Usia</th>\n",
       "      <th>Kategori_Usia</th>\n",
       "      <th>Waktu_login</th>\n",
       "    </tr>\n",
       "  </thead>\n",
       "  <tbody>\n",
       "    <tr>\n",
       "      <th>0</th>\n",
       "      <td>Bandung</td>\n",
       "      <td>3:44</td>\n",
       "      <td>User_1</td>\n",
       "      <td>user1@gmail.com</td>\n",
       "      <td>87695329652</td>\n",
       "      <td>2002</td>\n",
       "      <td>Redmi</td>\n",
       "      <td>Social Media</td>\n",
       "      <td>Kota</td>\n",
       "      <td>22</td>\n",
       "      <td>Dewasa</td>\n",
       "      <td>Dini Hari</td>\n",
       "    </tr>\n",
       "    <tr>\n",
       "      <th>1</th>\n",
       "      <td>Balikpapan</td>\n",
       "      <td>18:24</td>\n",
       "      <td>User_2</td>\n",
       "      <td>user2@gmail.com</td>\n",
       "      <td>89578827034</td>\n",
       "      <td>1990</td>\n",
       "      <td>Oppo</td>\n",
       "      <td>Streaming</td>\n",
       "      <td>Kota</td>\n",
       "      <td>34</td>\n",
       "      <td>Dewasa</td>\n",
       "      <td>Malam</td>\n",
       "    </tr>\n",
       "    <tr>\n",
       "      <th>2</th>\n",
       "      <td>Yogyakarta</td>\n",
       "      <td>2:58</td>\n",
       "      <td>User_3</td>\n",
       "      <td>user3@gmail.com</td>\n",
       "      <td>88744960621</td>\n",
       "      <td>1996</td>\n",
       "      <td>Oppo</td>\n",
       "      <td>Streaming</td>\n",
       "      <td>Kota</td>\n",
       "      <td>28</td>\n",
       "      <td>Dewasa</td>\n",
       "      <td>Dini Hari</td>\n",
       "    </tr>\n",
       "    <tr>\n",
       "      <th>3</th>\n",
       "      <td>Solo</td>\n",
       "      <td>20:02</td>\n",
       "      <td>User_4</td>\n",
       "      <td>user4@gmail.com</td>\n",
       "      <td>84411528625</td>\n",
       "      <td>1984</td>\n",
       "      <td>Redmi</td>\n",
       "      <td>Gaming</td>\n",
       "      <td>Kota</td>\n",
       "      <td>40</td>\n",
       "      <td>Dewasa</td>\n",
       "      <td>Malam</td>\n",
       "    </tr>\n",
       "    <tr>\n",
       "      <th>4</th>\n",
       "      <td>Jakarta</td>\n",
       "      <td>7:12</td>\n",
       "      <td>User_5</td>\n",
       "      <td>user5@gmail.com</td>\n",
       "      <td>83602433440</td>\n",
       "      <td>1980</td>\n",
       "      <td>Xiaomi</td>\n",
       "      <td>Shopping</td>\n",
       "      <td>Desa</td>\n",
       "      <td>44</td>\n",
       "      <td>Dewasa</td>\n",
       "      <td>Pagi</td>\n",
       "    </tr>\n",
       "    <tr>\n",
       "      <th>...</th>\n",
       "      <td>...</td>\n",
       "      <td>...</td>\n",
       "      <td>...</td>\n",
       "      <td>...</td>\n",
       "      <td>...</td>\n",
       "      <td>...</td>\n",
       "      <td>...</td>\n",
       "      <td>...</td>\n",
       "      <td>...</td>\n",
       "      <td>...</td>\n",
       "      <td>...</td>\n",
       "      <td>...</td>\n",
       "    </tr>\n",
       "    <tr>\n",
       "      <th>995</th>\n",
       "      <td>Yogyakarta</td>\n",
       "      <td>5:11</td>\n",
       "      <td>User_996</td>\n",
       "      <td>user996@gmail.com</td>\n",
       "      <td>87645912180</td>\n",
       "      <td>1987</td>\n",
       "      <td>Xiaomi</td>\n",
       "      <td>Social Media</td>\n",
       "      <td>Kota</td>\n",
       "      <td>37</td>\n",
       "      <td>Dewasa</td>\n",
       "      <td>Pagi</td>\n",
       "    </tr>\n",
       "    <tr>\n",
       "      <th>996</th>\n",
       "      <td>Denpasar</td>\n",
       "      <td>18:44</td>\n",
       "      <td>User_997</td>\n",
       "      <td>user997@gmail.com</td>\n",
       "      <td>84966859364</td>\n",
       "      <td>1982</td>\n",
       "      <td>Samsung</td>\n",
       "      <td>Gaming</td>\n",
       "      <td>Kota</td>\n",
       "      <td>42</td>\n",
       "      <td>Dewasa</td>\n",
       "      <td>Malam</td>\n",
       "    </tr>\n",
       "    <tr>\n",
       "      <th>997</th>\n",
       "      <td>Jakarta</td>\n",
       "      <td>20:03</td>\n",
       "      <td>User_998</td>\n",
       "      <td>user998@gmail.com</td>\n",
       "      <td>81863828986</td>\n",
       "      <td>1979</td>\n",
       "      <td>Xiaomi</td>\n",
       "      <td>Shopping</td>\n",
       "      <td>Desa</td>\n",
       "      <td>45</td>\n",
       "      <td>Dewasa</td>\n",
       "      <td>Malam</td>\n",
       "    </tr>\n",
       "    <tr>\n",
       "      <th>998</th>\n",
       "      <td>Denpasar</td>\n",
       "      <td>1:20</td>\n",
       "      <td>User_999</td>\n",
       "      <td>user999@gmail.com</td>\n",
       "      <td>88129791262</td>\n",
       "      <td>2002</td>\n",
       "      <td>Redmi</td>\n",
       "      <td>Streaming</td>\n",
       "      <td>Kota</td>\n",
       "      <td>22</td>\n",
       "      <td>Dewasa</td>\n",
       "      <td>Dini Hari</td>\n",
       "    </tr>\n",
       "    <tr>\n",
       "      <th>999</th>\n",
       "      <td>Solo</td>\n",
       "      <td>11:10</td>\n",
       "      <td>User_1000</td>\n",
       "      <td>user1000@gmail.com</td>\n",
       "      <td>85336897659</td>\n",
       "      <td>1993</td>\n",
       "      <td>Redmi</td>\n",
       "      <td>Gaming</td>\n",
       "      <td>Desa</td>\n",
       "      <td>31</td>\n",
       "      <td>Dewasa</td>\n",
       "      <td>Pagi</td>\n",
       "    </tr>\n",
       "  </tbody>\n",
       "</table>\n",
       "<p>1000 rows × 12 columns</p>\n",
       "</div>"
      ],
      "text/plain": [
       "    Nama_Lokasi Jam_Login       Nama               Email      No_Telp  \\\n",
       "0       Bandung      3:44     User_1     user1@gmail.com  87695329652   \n",
       "1    Balikpapan     18:24     User_2     user2@gmail.com  89578827034   \n",
       "2    Yogyakarta      2:58     User_3     user3@gmail.com  88744960621   \n",
       "3          Solo     20:02     User_4     user4@gmail.com  84411528625   \n",
       "4       Jakarta      7:12     User_5     user5@gmail.com  83602433440   \n",
       "..          ...       ...        ...                 ...          ...   \n",
       "995  Yogyakarta      5:11   User_996   user996@gmail.com  87645912180   \n",
       "996    Denpasar     18:44   User_997   user997@gmail.com  84966859364   \n",
       "997     Jakarta     20:03   User_998   user998@gmail.com  81863828986   \n",
       "998    Denpasar      1:20   User_999   user999@gmail.com  88129791262   \n",
       "999        Solo     11:10  User_1000  user1000@gmail.com  85336897659   \n",
       "\n",
       "     Tahun_Lahir  Merk_Hp Digital_Interest Location Type  Usia Kategori_Usia  \\\n",
       "0           2002    Redmi     Social Media          Kota    22        Dewasa   \n",
       "1           1990     Oppo        Streaming          Kota    34        Dewasa   \n",
       "2           1996     Oppo        Streaming          Kota    28        Dewasa   \n",
       "3           1984    Redmi           Gaming          Kota    40        Dewasa   \n",
       "4           1980   Xiaomi         Shopping          Desa    44        Dewasa   \n",
       "..           ...      ...              ...           ...   ...           ...   \n",
       "995         1987   Xiaomi     Social Media          Kota    37        Dewasa   \n",
       "996         1982  Samsung           Gaming          Kota    42        Dewasa   \n",
       "997         1979   Xiaomi         Shopping          Desa    45        Dewasa   \n",
       "998         2002    Redmi        Streaming          Kota    22        Dewasa   \n",
       "999         1993    Redmi           Gaming          Desa    31        Dewasa   \n",
       "\n",
       "    Waktu_login  \n",
       "0     Dini Hari  \n",
       "1         Malam  \n",
       "2     Dini Hari  \n",
       "3         Malam  \n",
       "4          Pagi  \n",
       "..          ...  \n",
       "995        Pagi  \n",
       "996       Malam  \n",
       "997       Malam  \n",
       "998   Dini Hari  \n",
       "999        Pagi  \n",
       "\n",
       "[1000 rows x 12 columns]"
      ]
     },
     "execution_count": 8,
     "metadata": {},
     "output_type": "execute_result"
    }
   ],
   "source": [
    "# Membuat kolom baru \"waktu_login\" dengan membagi jam_login kedalam beberapa kategori\n",
    "\n",
    "def waktu_login(jam_login):\n",
    "    # Mengambil jam dari format waktu (hh:mm)\n",
    "    jam = int(jam_login.split(':')[0])\n",
    "    \n",
    "    if 5 <= jam <= 11:\n",
    "        return 'Pagi'\n",
    "    elif 12 <= jam <= 16:\n",
    "        return 'Siang'\n",
    "    elif 17 <= jam <= 23:\n",
    "        return 'Malam'\n",
    "    else:\n",
    "        return 'Dini Hari'\n",
    "\n",
    "# Menggunakan fungsi untuk membuat kolom Waktu_login\n",
    "df['Waktu_login'] = df['Jam_Login'].apply(waktu_login)\n",
    "df"
   ]
  },
  {
   "cell_type": "markdown",
   "metadata": {},
   "source": [
    "# Confidence Interval\n",
    "---"
   ]
  },
  {
   "cell_type": "code",
   "execution_count": 9,
   "metadata": {},
   "outputs": [
    {
     "name": "stdout",
     "output_type": "stream",
     "text": [
      "Rata-rata : 33.887\n",
      "Standar Deviasi : 11.782404510797253\n"
     ]
    }
   ],
   "source": [
    "mean = df['Usia'].mean()  # Rata-rata sampel\n",
    "print(\"Rata-rata :\",mean)\n",
    "std = df['Usia'].std() # Standar deviasi sampel\n",
    "print(\"Standar Deviasi :\",std)"
   ]
  },
  {
   "cell_type": "code",
   "execution_count": 10,
   "metadata": {},
   "outputs": [
    {
     "name": "stdout",
     "output_type": "stream",
     "text": [
      "Confidence Interval: 33.16 - 34.62\n"
     ]
    }
   ],
   "source": [
    "n = len(df['Usia'])  # Jumlah sampel\n",
    "z = norm.ppf(0.975)  # Z-score untuk 95% confidence level\n",
    "\n",
    "# Confidence Interval\n",
    "ci_lower = mean - z * (std / np.sqrt(n))\n",
    "ci_upper = mean + z * (std / np.sqrt(n))\n",
    "\n",
    "print(f\"Confidence Interval: {ci_lower:.2f} - {ci_upper:.2f}\")"
   ]
  },
  {
   "cell_type": "markdown",
   "metadata": {},
   "source": [
    "- Rata-rata Usia: Nilai rata-rata usia adalah 33.887, yang menunjukkan usia rata-rata dari populasi yang ada dalam dataset tersebut.\n",
    "\n",
    "- Confidence Interval (CI):\n",
    "\n",
    "    - Lower Bound (Batas Bawah): 33.16\n",
    "    - Upper Bound (Batas Atas): 34.62\n",
    "\n",
    "Artinya, dengan tingkat kepercayaan 95%,usia rata-rata pengguna yang ada dalam sampel ini terletak antara 33.16 dan 34.62 tahun."
   ]
  },
  {
   "cell_type": "markdown",
   "metadata": {},
   "source": [
    "# Data Preparation \n",
    "---"
   ]
  },
  {
   "cell_type": "code",
   "execution_count": 11,
   "metadata": {},
   "outputs": [
    {
     "name": "stdout",
     "output_type": "stream",
     "text": [
      "<class 'pandas.core.frame.DataFrame'>\n",
      "RangeIndex: 1000 entries, 0 to 999\n",
      "Data columns (total 12 columns):\n",
      " #   Column            Non-Null Count  Dtype \n",
      "---  ------            --------------  ----- \n",
      " 0   Nama_Lokasi       1000 non-null   object\n",
      " 1   Jam_Login         1000 non-null   object\n",
      " 2   Nama              1000 non-null   object\n",
      " 3   Email             1000 non-null   object\n",
      " 4   No_Telp           1000 non-null   int64 \n",
      " 5   Tahun_Lahir       1000 non-null   int64 \n",
      " 6   Merk_Hp           1000 non-null   object\n",
      " 7   Digital_Interest  1000 non-null   object\n",
      " 8   Location Type     1000 non-null   object\n",
      " 9   Usia              1000 non-null   int64 \n",
      " 10  Kategori_Usia     1000 non-null   object\n",
      " 11  Waktu_login       1000 non-null   object\n",
      "dtypes: int64(3), object(9)\n",
      "memory usage: 93.9+ KB\n"
     ]
    }
   ],
   "source": [
    "df.info()"
   ]
  },
  {
   "cell_type": "markdown",
   "metadata": {},
   "source": [
    "Dari Hasil cek diatas, diketahui : \n",
    "- Data yang ada memiliki 12 kolom dengan 1000 baris\n",
    "- Terdapat ketidak sesuaian tipe data pada kolom `Jam_Login` dan kolom `No_telp`\n",
    "\n"
   ]
  },
  {
   "cell_type": "markdown",
   "metadata": {},
   "source": [
    "## Change Data Type\n"
   ]
  },
  {
   "cell_type": "code",
   "execution_count": 12,
   "metadata": {},
   "outputs": [],
   "source": [
    "# Mengubah tipe data `Jam_Login` menjadi datetime\n",
    "df['Jam_Login'] = pd.to_datetime(df['Jam_Login'], format='%H:%M').dt.time\n",
    "# Mengubah tipe data `No_telp` menjadi integer\n",
    "df['No_Telp'] = pd.to_numeric(df['No_Telp'], errors='coerce')"
   ]
  },
  {
   "cell_type": "code",
   "execution_count": 13,
   "metadata": {},
   "outputs": [
    {
     "name": "stdout",
     "output_type": "stream",
     "text": [
      "<class 'pandas.core.frame.DataFrame'>\n",
      "RangeIndex: 1000 entries, 0 to 999\n",
      "Data columns (total 12 columns):\n",
      " #   Column            Non-Null Count  Dtype \n",
      "---  ------            --------------  ----- \n",
      " 0   Nama_Lokasi       1000 non-null   object\n",
      " 1   Jam_Login         1000 non-null   object\n",
      " 2   Nama              1000 non-null   object\n",
      " 3   Email             1000 non-null   object\n",
      " 4   No_Telp           1000 non-null   int64 \n",
      " 5   Tahun_Lahir       1000 non-null   int64 \n",
      " 6   Merk_Hp           1000 non-null   object\n",
      " 7   Digital_Interest  1000 non-null   object\n",
      " 8   Location Type     1000 non-null   object\n",
      " 9   Usia              1000 non-null   int64 \n",
      " 10  Kategori_Usia     1000 non-null   object\n",
      " 11  Waktu_login       1000 non-null   object\n",
      "dtypes: int64(3), object(9)\n",
      "memory usage: 93.9+ KB\n"
     ]
    }
   ],
   "source": [
    "df.info()"
   ]
  },
  {
   "cell_type": "markdown",
   "metadata": {},
   "source": [
    "Ketidak sesuaian tipe data telah diatasi,selanjutnya akan dilakukan pengecekan missing value dan pengecekan data duplikat\n"
   ]
  },
  {
   "cell_type": "markdown",
   "metadata": {},
   "source": [
    "## Check Missing Values"
   ]
  },
  {
   "cell_type": "code",
   "execution_count": 14,
   "metadata": {},
   "outputs": [
    {
     "data": {
      "text/plain": [
       "Nama_Lokasi         0\n",
       "Jam_Login           0\n",
       "Nama                0\n",
       "Email               0\n",
       "No_Telp             0\n",
       "Tahun_Lahir         0\n",
       "Merk_Hp             0\n",
       "Digital_Interest    0\n",
       "Location Type       0\n",
       "Usia                0\n",
       "Kategori_Usia       0\n",
       "Waktu_login         0\n",
       "dtype: int64"
      ]
     },
     "execution_count": 14,
     "metadata": {},
     "output_type": "execute_result"
    }
   ],
   "source": [
    "df.isnull().sum()"
   ]
  },
  {
   "cell_type": "markdown",
   "metadata": {},
   "source": [
    "Setelah dilakukan pengecekan ternyata,tidak terdapat missing value pada data yang dimiliki "
   ]
  },
  {
   "cell_type": "markdown",
   "metadata": {},
   "source": [
    "## Check Data Duplicate "
   ]
  },
  {
   "cell_type": "code",
   "execution_count": 15,
   "metadata": {},
   "outputs": [
    {
     "data": {
      "text/plain": [
       "0"
      ]
     },
     "execution_count": 15,
     "metadata": {},
     "output_type": "execute_result"
    }
   ],
   "source": [
    "df.duplicated().sum()"
   ]
  },
  {
   "cell_type": "markdown",
   "metadata": {},
   "source": [
    "Tidak terdapat data duplikat pada data yang dimiliki"
   ]
  },
  {
   "cell_type": "markdown",
   "metadata": {},
   "source": [
    ">Data Preparation selesai kita akan melanjutkannya ke tahap analisis data"
   ]
  },
  {
   "cell_type": "markdown",
   "metadata": {},
   "source": [
    "# Exploratory Data Analyst (EDA)\n",
    "---"
   ]
  },
  {
   "cell_type": "code",
   "execution_count": 16,
   "metadata": {},
   "outputs": [
    {
     "data": {
      "text/html": [
       "<div>\n",
       "<style scoped>\n",
       "    .dataframe tbody tr th:only-of-type {\n",
       "        vertical-align: middle;\n",
       "    }\n",
       "\n",
       "    .dataframe tbody tr th {\n",
       "        vertical-align: top;\n",
       "    }\n",
       "\n",
       "    .dataframe thead th {\n",
       "        text-align: right;\n",
       "    }\n",
       "</style>\n",
       "<table border=\"1\" class=\"dataframe\">\n",
       "  <thead>\n",
       "    <tr style=\"text-align: right;\">\n",
       "      <th></th>\n",
       "      <th>Nama_Lokasi</th>\n",
       "      <th>Jam_Login</th>\n",
       "      <th>Nama</th>\n",
       "      <th>Email</th>\n",
       "      <th>No_Telp</th>\n",
       "      <th>Tahun_Lahir</th>\n",
       "      <th>Merk_Hp</th>\n",
       "      <th>Digital_Interest</th>\n",
       "      <th>Location Type</th>\n",
       "      <th>Usia</th>\n",
       "      <th>Kategori_Usia</th>\n",
       "      <th>Waktu_login</th>\n",
       "    </tr>\n",
       "  </thead>\n",
       "  <tbody>\n",
       "    <tr>\n",
       "      <th>0</th>\n",
       "      <td>Bandung</td>\n",
       "      <td>03:44:00</td>\n",
       "      <td>User_1</td>\n",
       "      <td>user1@gmail.com</td>\n",
       "      <td>87695329652</td>\n",
       "      <td>2002</td>\n",
       "      <td>Redmi</td>\n",
       "      <td>Social Media</td>\n",
       "      <td>Kota</td>\n",
       "      <td>22</td>\n",
       "      <td>Dewasa</td>\n",
       "      <td>Dini Hari</td>\n",
       "    </tr>\n",
       "    <tr>\n",
       "      <th>1</th>\n",
       "      <td>Balikpapan</td>\n",
       "      <td>18:24:00</td>\n",
       "      <td>User_2</td>\n",
       "      <td>user2@gmail.com</td>\n",
       "      <td>89578827034</td>\n",
       "      <td>1990</td>\n",
       "      <td>Oppo</td>\n",
       "      <td>Streaming</td>\n",
       "      <td>Kota</td>\n",
       "      <td>34</td>\n",
       "      <td>Dewasa</td>\n",
       "      <td>Malam</td>\n",
       "    </tr>\n",
       "    <tr>\n",
       "      <th>2</th>\n",
       "      <td>Yogyakarta</td>\n",
       "      <td>02:58:00</td>\n",
       "      <td>User_3</td>\n",
       "      <td>user3@gmail.com</td>\n",
       "      <td>88744960621</td>\n",
       "      <td>1996</td>\n",
       "      <td>Oppo</td>\n",
       "      <td>Streaming</td>\n",
       "      <td>Kota</td>\n",
       "      <td>28</td>\n",
       "      <td>Dewasa</td>\n",
       "      <td>Dini Hari</td>\n",
       "    </tr>\n",
       "    <tr>\n",
       "      <th>3</th>\n",
       "      <td>Solo</td>\n",
       "      <td>20:02:00</td>\n",
       "      <td>User_4</td>\n",
       "      <td>user4@gmail.com</td>\n",
       "      <td>84411528625</td>\n",
       "      <td>1984</td>\n",
       "      <td>Redmi</td>\n",
       "      <td>Gaming</td>\n",
       "      <td>Kota</td>\n",
       "      <td>40</td>\n",
       "      <td>Dewasa</td>\n",
       "      <td>Malam</td>\n",
       "    </tr>\n",
       "    <tr>\n",
       "      <th>4</th>\n",
       "      <td>Jakarta</td>\n",
       "      <td>07:12:00</td>\n",
       "      <td>User_5</td>\n",
       "      <td>user5@gmail.com</td>\n",
       "      <td>83602433440</td>\n",
       "      <td>1980</td>\n",
       "      <td>Xiaomi</td>\n",
       "      <td>Shopping</td>\n",
       "      <td>Desa</td>\n",
       "      <td>44</td>\n",
       "      <td>Dewasa</td>\n",
       "      <td>Pagi</td>\n",
       "    </tr>\n",
       "  </tbody>\n",
       "</table>\n",
       "</div>"
      ],
      "text/plain": [
       "  Nama_Lokasi Jam_Login    Nama            Email      No_Telp  Tahun_Lahir  \\\n",
       "0     Bandung  03:44:00  User_1  user1@gmail.com  87695329652         2002   \n",
       "1  Balikpapan  18:24:00  User_2  user2@gmail.com  89578827034         1990   \n",
       "2  Yogyakarta  02:58:00  User_3  user3@gmail.com  88744960621         1996   \n",
       "3        Solo  20:02:00  User_4  user4@gmail.com  84411528625         1984   \n",
       "4     Jakarta  07:12:00  User_5  user5@gmail.com  83602433440         1980   \n",
       "\n",
       "  Merk_Hp Digital_Interest Location Type  Usia Kategori_Usia Waktu_login  \n",
       "0   Redmi     Social Media          Kota    22        Dewasa   Dini Hari  \n",
       "1    Oppo        Streaming          Kota    34        Dewasa       Malam  \n",
       "2    Oppo        Streaming          Kota    28        Dewasa   Dini Hari  \n",
       "3   Redmi           Gaming          Kota    40        Dewasa       Malam  \n",
       "4  Xiaomi         Shopping          Desa    44        Dewasa        Pagi  "
      ]
     },
     "execution_count": 16,
     "metadata": {},
     "output_type": "execute_result"
    }
   ],
   "source": [
    "df.head()"
   ]
  },
  {
   "cell_type": "markdown",
   "metadata": {},
   "source": [
    "## 1. Bagaimana Distribusi Usia Pengguna ?"
   ]
  },
  {
   "cell_type": "code",
   "execution_count": 17,
   "metadata": {},
   "outputs": [
    {
     "data": {
      "text/html": [
       "<div>\n",
       "<style scoped>\n",
       "    .dataframe tbody tr th:only-of-type {\n",
       "        vertical-align: middle;\n",
       "    }\n",
       "\n",
       "    .dataframe tbody tr th {\n",
       "        vertical-align: top;\n",
       "    }\n",
       "\n",
       "    .dataframe thead th {\n",
       "        text-align: right;\n",
       "    }\n",
       "</style>\n",
       "<table border=\"1\" class=\"dataframe\">\n",
       "  <thead>\n",
       "    <tr style=\"text-align: right;\">\n",
       "      <th></th>\n",
       "      <th>Kategori_Usia</th>\n",
       "      <th>count</th>\n",
       "    </tr>\n",
       "  </thead>\n",
       "  <tbody>\n",
       "    <tr>\n",
       "      <th>0</th>\n",
       "      <td>Dewasa</td>\n",
       "      <td>898</td>\n",
       "    </tr>\n",
       "    <tr>\n",
       "      <th>1</th>\n",
       "      <td>Remaja</td>\n",
       "      <td>71</td>\n",
       "    </tr>\n",
       "    <tr>\n",
       "      <th>2</th>\n",
       "      <td>Lansia</td>\n",
       "      <td>31</td>\n",
       "    </tr>\n",
       "  </tbody>\n",
       "</table>\n",
       "</div>"
      ],
      "text/plain": [
       "  Kategori_Usia  count\n",
       "0        Dewasa    898\n",
       "1        Remaja     71\n",
       "2        Lansia     31"
      ]
     },
     "execution_count": 17,
     "metadata": {},
     "output_type": "execute_result"
    }
   ],
   "source": [
    "distribusi_pengguna = df['Kategori_Usia'].value_counts().reset_index()\n",
    "distribusi_pengguna"
   ]
  },
  {
   "cell_type": "code",
   "execution_count": 18,
   "metadata": {},
   "outputs": [
    {
     "data": {
      "image/png": "[encoded data removed]",
      "text/plain": [
       "<Figure size 640x480 with 1 Axes>"
      ]
     },
     "metadata": {},
     "output_type": "display_data"
    }
   ],
   "source": [
    "# Membuat bar chart\n",
    "plt.bar(distribusi_pengguna['Kategori_Usia'], distribusi_pengguna['count'])\n",
    "plt.xlabel('Kategori Usia')\n",
    "plt.ylabel('Jumlah Pengguna')\n",
    "plt.title('Distribusi Pengguna')\n",
    "plt.show()"
   ]
  },
  {
   "cell_type": "markdown",
   "metadata": {},
   "source": [
    "Dari Visualisasi diatas dapat dilihat bahwa : \n",
    "- Sebagian besar pengguna termasuk dalam kategori dewasa: Terlihat jelas bahwa jumlah pengguna dewasa jauh lebih banyak dibandingkan dengan kategori remaja dan lansia. \n",
    "- Minat pengguna remaja cukup signifikan: Meskipun tidak sebanyak pengguna dewasa, jumlah pengguna remaja juga cukup signifikan. \n",
    "- Pengguna lansia memiliki jumlah yang paling sedikit: Jumlah pengguna lansia adalah yang paling sedikit di antara ketiga kategori usia. Ini bisa menjadi indikasi bahwa produk atau layanan Anda belum terlalu menarik bagi kelompok usia ini.\n",
    "\n",
    "Insight dan Implikasi:\n",
    "\n",
    "Fokus pada pengguna dewasa:\n",
    " Karena sebagian besar pengguna Anda adalah dewasa, maka strategi pemasaran dan pengembangan produk sebaiknya lebih fokus pada kebutuhan dan preferensi kelompok usia ini.\n"
   ]
  },
  {
   "cell_type": "markdown",
   "metadata": {},
   "source": [
    "## 2. Distribusi Waktu Login \n"
   ]
  },
  {
   "cell_type": "code",
   "execution_count": 19,
   "metadata": {},
   "outputs": [
    {
     "data": {
      "text/html": [
       "<div>\n",
       "<style scoped>\n",
       "    .dataframe tbody tr th:only-of-type {\n",
       "        vertical-align: middle;\n",
       "    }\n",
       "\n",
       "    .dataframe tbody tr th {\n",
       "        vertical-align: top;\n",
       "    }\n",
       "\n",
       "    .dataframe thead th {\n",
       "        text-align: right;\n",
       "    }\n",
       "</style>\n",
       "<table border=\"1\" class=\"dataframe\">\n",
       "  <thead>\n",
       "    <tr style=\"text-align: right;\">\n",
       "      <th></th>\n",
       "      <th>Waktu_login</th>\n",
       "      <th>Total login</th>\n",
       "    </tr>\n",
       "  </thead>\n",
       "  <tbody>\n",
       "    <tr>\n",
       "      <th>0</th>\n",
       "      <td>Dini Hari</td>\n",
       "      <td>215</td>\n",
       "    </tr>\n",
       "    <tr>\n",
       "      <th>1</th>\n",
       "      <td>Malam</td>\n",
       "      <td>289</td>\n",
       "    </tr>\n",
       "    <tr>\n",
       "      <th>2</th>\n",
       "      <td>Pagi</td>\n",
       "      <td>293</td>\n",
       "    </tr>\n",
       "    <tr>\n",
       "      <th>3</th>\n",
       "      <td>Siang</td>\n",
       "      <td>203</td>\n",
       "    </tr>\n",
       "  </tbody>\n",
       "</table>\n",
       "</div>"
      ],
      "text/plain": [
       "  Waktu_login  Total login\n",
       "0   Dini Hari          215\n",
       "1       Malam          289\n",
       "2        Pagi          293\n",
       "3       Siang          203"
      ]
     },
     "execution_count": 19,
     "metadata": {},
     "output_type": "execute_result"
    }
   ],
   "source": [
    "total_login = df.groupby('Waktu_login')['Kategori_Usia'].count().reset_index(name= 'Total login')\n",
    "total_login"
   ]
  },
  {
   "cell_type": "code",
   "execution_count": 20,
   "metadata": {},
   "outputs": [
    {
     "data": {
      "image/png": "[encoded data removed]",
      "text/plain": [
       "<Figure size 1600x600 with 2 Axes>"
      ]
     },
     "metadata": {},
     "output_type": "display_data"
    }
   ],
   "source": [
    "# Create a figure \n",
    "plt.figure(figsize=(16, 6))\n",
    "\n",
    "# set color \n",
    "colors = sns.color_palette('pastel')\n",
    "\n",
    "# visualize 1 \n",
    "plt.subplot(1,2,1)\n",
    "# convert to dictionary\n",
    "total_login_dict= dict(zip(total_login['Waktu_login'],total_login['Total login']))\n",
    "plt.pie(total_login_dict.values(),labels=total_login_dict.keys(), autopct='%1.1f%%',colors=colors)\n",
    "plt.title('Persentasi waktu login')\n",
    "\n",
    "# Visualize 2 \n",
    "plt.subplot(1, 2, 2)\n",
    "sns.barplot(x='Waktu_login', y='Total login', data=total_login, palette='crest')\n",
    "plt.title('Jumlah Pengguna Berdasarkan Waktu Login')\n",
    "plt.xlabel('Frekuensi')\n",
    "plt.ylabel('Total Pengguna')\n",
    "\n",
    "# Adjust spacing between subplots\n",
    "plt.subplots_adjust(left=0.1, right=0.85, wspace=0.3)\n",
    "\n",
    "# Show the plot\n",
    "plt.show()"
   ]
  },
  {
   "cell_type": "markdown",
   "metadata": {},
   "source": [
    "Dar 2 Visualisasi diatas :\n",
    "- Pie Chart:\n",
    "   - Malam (27%): Sebagian besar pengguna login pada malam hari, yang mungkin menunjukkan penggunaan layanan untuk hiburan atau aktivitas santai.\n",
    "   - Dini Hari (19,7%): Ada kelompok pengguna yang login pada dini hari, mungkin untuk keperluan kerja atau studi.\n",
    "   - Pagi (30,9%): Waktu dengan persentase login tertinggi, menunjukkan bahwa layanan banyak digunakan untuk memulai aktivitas sehari-hari seperti  bekerja atau belajar.\n",
    "   -  Siang (22,4%): Pengguna yang login pada siang hari relatif lebih sedikit, kemungkinan karena kesibukan kerja atau sekolah.\n",
    "\n",
    "- Bar Chart:\n",
    "   - Tren: Pagi hari menunjukkan jumlah login tertinggi, diikuti oleh malam, dini hari, dan siang.\n",
    "   - Perbandingan: Grafik batang memberikan gambaran yang lebih jelas mengenai perbedaan jumlah pengguna di tiap waktu.\n",
    "- Insight:\n",
    "  - Pola Penggunaan: Pagi hari adalah waktu login terbanyak, dengan malam hari juga menunjukkan angka yang signifikan.\n",
    "   Segmentasi Pengguna: Berdasarkan pola waktu login, strategi pemasaran dapat disesuaikan, seperti menawarkan promosi pada malam hari untuk pengguna yang lebih aktif pada waktu tersebut.\n",
    "\n",
    "Selanjutnya akan dilakukan analisis lebih lanjut dengan membandingkan pola waktu login dengan variabel lain untuk mendapatkan informasi tentang kebiasaan pengguna "
   ]
  },
  {
   "cell_type": "markdown",
   "metadata": {},
   "source": [
    "## 3. Waktu login berdasarkan kategori usia"
   ]
  },
  {
   "cell_type": "code",
   "execution_count": 21,
   "metadata": {},
   "outputs": [
    {
     "data": {
      "text/html": [
       "<div>\n",
       "<style scoped>\n",
       "    .dataframe tbody tr th:only-of-type {\n",
       "        vertical-align: middle;\n",
       "    }\n",
       "\n",
       "    .dataframe tbody tr th {\n",
       "        vertical-align: top;\n",
       "    }\n",
       "\n",
       "    .dataframe thead th {\n",
       "        text-align: right;\n",
       "    }\n",
       "</style>\n",
       "<table border=\"1\" class=\"dataframe\">\n",
       "  <thead>\n",
       "    <tr style=\"text-align: right;\">\n",
       "      <th></th>\n",
       "      <th>Waktu_login</th>\n",
       "      <th>Kategori_Usia</th>\n",
       "      <th>Total_login</th>\n",
       "    </tr>\n",
       "  </thead>\n",
       "  <tbody>\n",
       "    <tr>\n",
       "      <th>0</th>\n",
       "      <td>Dini Hari</td>\n",
       "      <td>Dewasa</td>\n",
       "      <td>189</td>\n",
       "    </tr>\n",
       "    <tr>\n",
       "      <th>1</th>\n",
       "      <td>Dini Hari</td>\n",
       "      <td>Lansia</td>\n",
       "      <td>4</td>\n",
       "    </tr>\n",
       "    <tr>\n",
       "      <th>2</th>\n",
       "      <td>Dini Hari</td>\n",
       "      <td>Remaja</td>\n",
       "      <td>22</td>\n",
       "    </tr>\n",
       "    <tr>\n",
       "      <th>3</th>\n",
       "      <td>Malam</td>\n",
       "      <td>Dewasa</td>\n",
       "      <td>268</td>\n",
       "    </tr>\n",
       "    <tr>\n",
       "      <th>4</th>\n",
       "      <td>Malam</td>\n",
       "      <td>Lansia</td>\n",
       "      <td>7</td>\n",
       "    </tr>\n",
       "    <tr>\n",
       "      <th>5</th>\n",
       "      <td>Malam</td>\n",
       "      <td>Remaja</td>\n",
       "      <td>14</td>\n",
       "    </tr>\n",
       "    <tr>\n",
       "      <th>6</th>\n",
       "      <td>Pagi</td>\n",
       "      <td>Dewasa</td>\n",
       "      <td>258</td>\n",
       "    </tr>\n",
       "    <tr>\n",
       "      <th>7</th>\n",
       "      <td>Pagi</td>\n",
       "      <td>Lansia</td>\n",
       "      <td>11</td>\n",
       "    </tr>\n",
       "    <tr>\n",
       "      <th>8</th>\n",
       "      <td>Pagi</td>\n",
       "      <td>Remaja</td>\n",
       "      <td>24</td>\n",
       "    </tr>\n",
       "    <tr>\n",
       "      <th>9</th>\n",
       "      <td>Siang</td>\n",
       "      <td>Dewasa</td>\n",
       "      <td>183</td>\n",
       "    </tr>\n",
       "    <tr>\n",
       "      <th>10</th>\n",
       "      <td>Siang</td>\n",
       "      <td>Lansia</td>\n",
       "      <td>9</td>\n",
       "    </tr>\n",
       "    <tr>\n",
       "      <th>11</th>\n",
       "      <td>Siang</td>\n",
       "      <td>Remaja</td>\n",
       "      <td>11</td>\n",
       "    </tr>\n",
       "  </tbody>\n",
       "</table>\n",
       "</div>"
      ],
      "text/plain": [
       "   Waktu_login Kategori_Usia  Total_login\n",
       "0    Dini Hari        Dewasa          189\n",
       "1    Dini Hari        Lansia            4\n",
       "2    Dini Hari        Remaja           22\n",
       "3        Malam        Dewasa          268\n",
       "4        Malam        Lansia            7\n",
       "5        Malam        Remaja           14\n",
       "6         Pagi        Dewasa          258\n",
       "7         Pagi        Lansia           11\n",
       "8         Pagi        Remaja           24\n",
       "9        Siang        Dewasa          183\n",
       "10       Siang        Lansia            9\n",
       "11       Siang        Remaja           11"
      ]
     },
     "execution_count": 21,
     "metadata": {},
     "output_type": "execute_result"
    }
   ],
   "source": [
    "login_time = df.groupby(['Waktu_login','Kategori_Usia'])['Kategori_Usia'].count().reset_index(name='Total_login')\n",
    "login_time"
   ]
  },
  {
   "cell_type": "code",
   "execution_count": 22,
   "metadata": {},
   "outputs": [
    {
     "data": {
      "application/vnd.plotly.v1+json": {
       "config": {
        "plotlyServerURL": "https://plot.ly"
       },
       "data": [
        {
         "marker": {
          "color": "lightseagreen"
         },
         "name": "Dini Hari",
         "type": "bar",
         "x": [
          "Dewasa",
          "Lansia",
          "Remaja"
         ],
         "y": [
          189,
          4,
          22
         ]
        },
        {
         "marker": {
          "color": "lightcoral"
         },
         "name": "Malam",
         "type": "bar",
         "x": [
          "Dewasa",
          "Lansia",
          "Remaja"
         ],
         "y": [
          268,
          7,
          14
         ]
        },
        {
         "marker": {
          "color": "lightsalmon"
         },
         "name": "Pagi",
         "type": "bar",
         "x": [
          "Dewasa",
          "Lansia",
          "Remaja"
         ],
         "y": [
          258,
          11,
          24
         ]
        },
        {
         "marker": {
          "color": "lightblue"
         },
         "name": "Siang",
         "type": "bar",
         "x": [
          "Dewasa",
          "Lansia",
          "Remaja"
         ],
         "y": [
          183,
          9,
          11
         ]
        }
       ],
       "layout": {
        "barmode": "group",
        "template": {
         "data": {
          "bar": [
           {
            "error_x": {
             "color": "#2a3f5f"
            },
            "error_y": {
             "color": "#2a3f5f"
            },
            "marker": {
             "line": {
              "color": "#E5ECF6",
              "width": 0.5
             },
             "pattern": {
              "fillmode": "overlay",
              "size": 10,
              "solidity": 0.2
             }
            },
            "type": "bar"
           }
          ],
          "barpolar": [
           {
            "marker": {
             "line": {
              "color": "#E5ECF6",
              "width": 0.5
             },
             "pattern": {
              "fillmode": "overlay",
              "size": 10,
              "solidity": 0.2
             }
            },
            "type": "barpolar"
           }
          ],
          "carpet": [
           {
            "aaxis": {
             "endlinecolor": "#2a3f5f",
             "gridcolor": "white",
             "linecolor": "white",
             "minorgridcolor": "white",
             "startlinecolor": "#2a3f5f"
            },
            "baxis": {
             "endlinecolor": "#2a3f5f",
             "gridcolor": "white",
             "linecolor": "white",
             "minorgridcolor": "white",
             "startlinecolor": "#2a3f5f"
            },
            "type": "carpet"
           }
          ],
          "choropleth": [
           {
            "colorbar": {
             "outlinewidth": 0,
             "ticks": ""
            },
            "type": "choropleth"
           }
          ],
          "contour": [
           {
            "colorbar": {
             "outlinewidth": 0,
             "ticks": ""
            },
            "colorscale": [
             [
              0,
              "#0d0887"
             ],
             [
              0.1111111111111111,
              "#46039f"
             ],
             [
              0.2222222222222222,
              "#7201a8"
             ],
             [
              0.3333333333333333,
              "#9c179e"
             ],
             [
              0.4444444444444444,
              "#bd3786"
             ],
             [
              0.5555555555555556,
              "#d8576b"
             ],
             [
              0.6666666666666666,
              "#ed7953"
             ],
             [
              0.7777777777777778,
              "#fb9f3a"
             ],
             [
              0.8888888888888888,
              "#fdca26"
             ],
             [
              1,
              "#f0f921"
             ]
            ],
            "type": "contour"
           }
          ],
          "contourcarpet": [
           {
            "colorbar": {
             "outlinewidth": 0,
             "ticks": ""
            },
            "type": "contourcarpet"
           }
          ],
          "heatmap": [
           {
            "colorbar": {
             "outlinewidth": 0,
             "ticks": ""
            },
            "colorscale": [
             [
              0,
              "#0d0887"
             ],
             [
              0.1111111111111111,
              "#46039f"
             ],
             [
              0.2222222222222222,
              "#7201a8"
             ],
             [
              0.3333333333333333,
              "#9c179e"
             ],
             [
              0.4444444444444444,
              "#bd3786"
             ],
             [
              0.5555555555555556,
              "#d8576b"
             ],
             [
              0.6666666666666666,
              "#ed7953"
             ],
             [
              0.7777777777777778,
              "#fb9f3a"
             ],
             [
              0.8888888888888888,
              "#fdca26"
             ],
             [
              1,
              "#f0f921"
             ]
            ],
            "type": "heatmap"
           }
          ],
          "heatmapgl": [
           {
            "colorbar": {
             "outlinewidth": 0,
             "ticks": ""
            },
            "colorscale": [
             [
              0,
              "#0d0887"
             ],
             [
              0.1111111111111111,
              "#46039f"
             ],
             [
              0.2222222222222222,
              "#7201a8"
             ],
             [
              0.3333333333333333,
              "#9c179e"
             ],
             [
              0.4444444444444444,
              "#bd3786"
             ],
             [
              0.5555555555555556,
              "#d8576b"
             ],
             [
              0.6666666666666666,
              "#ed7953"
             ],
             [
              0.7777777777777778,
              "#fb9f3a"
             ],
             [
              0.8888888888888888,
              "#fdca26"
             ],
             [
              1,
              "#f0f921"
             ]
            ],
            "type": "heatmapgl"
           }
          ],
          "histogram": [
           {
            "marker": {
             "pattern": {
              "fillmode": "overlay",
              "size": 10,
              "solidity": 0.2
             }
            },
            "type": "histogram"
           }
          ],
          "histogram2d": [
           {
            "colorbar": {
             "outlinewidth": 0,
             "ticks": ""
            },
            "colorscale": [
             [
              0,
              "#0d0887"
             ],
             [
              0.1111111111111111,
              "#46039f"
             ],
             [
              0.2222222222222222,
              "#7201a8"
             ],
             [
              0.3333333333333333,
              "#9c179e"
             ],
             [
              0.4444444444444444,
              "#bd3786"
             ],
             [
              0.5555555555555556,
              "#d8576b"
             ],
             [
              0.6666666666666666,
              "#ed7953"
             ],
             [
              0.7777777777777778,
              "#fb9f3a"
             ],
             [
              0.8888888888888888,
              "#fdca26"
             ],
             [
              1,
              "#f0f921"
             ]
            ],
            "type": "histogram2d"
           }
          ],
          "histogram2dcontour": [
           {
            "colorbar": {
             "outlinewidth": 0,
             "ticks": ""
            },
            "colorscale": [
             [
              0,
              "#0d0887"
             ],
             [
              0.1111111111111111,
              "#46039f"
             ],
             [
              0.2222222222222222,
              "#7201a8"
             ],
             [
              0.3333333333333333,
              "#9c179e"
             ],
             [
              0.4444444444444444,
              "#bd3786"
             ],
             [
              0.5555555555555556,
              "#d8576b"
             ],
             [
              0.6666666666666666,
              "#ed7953"
             ],
             [
              0.7777777777777778,
              "#fb9f3a"
             ],
             [
              0.8888888888888888,
              "#fdca26"
             ],
             [
              1,
              "#f0f921"
             ]
            ],
            "type": "histogram2dcontour"
           }
          ],
          "mesh3d": [
           {
            "colorbar": {
             "outlinewidth": 0,
             "ticks": ""
            },
            "type": "mesh3d"
           }
          ],
          "parcoords": [
           {
            "line": {
             "colorbar": {
              "outlinewidth": 0,
              "ticks": ""
             }
            },
            "type": "parcoords"
           }
          ],
          "pie": [
           {
            "automargin": true,
            "type": "pie"
           }
          ],
          "scatter": [
           {
            "fillpattern": {
             "fillmode": "overlay",
             "size": 10,
             "solidity": 0.2
            },
            "type": "scatter"
           }
          ],
          "scatter3d": [
           {
            "line": {
             "colorbar": {
              "outlinewidth": 0,
              "ticks": ""
             }
            },
            "marker": {
             "colorbar": {
              "outlinewidth": 0,
              "ticks": ""
             }
            },
            "type": "scatter3d"
           }
          ],
          "scattercarpet": [
           {
            "marker": {
             "colorbar": {
              "outlinewidth": 0,
              "ticks": ""
             }
            },
            "type": "scattercarpet"
           }
          ],
          "scattergeo": [
           {
            "marker": {
             "colorbar": {
              "outlinewidth": 0,
              "ticks": ""
             }
            },
            "type": "scattergeo"
           }
          ],
          "scattergl": [
           {
            "marker": {
             "colorbar": {
              "outlinewidth": 0,
              "ticks": ""
             }
            },
            "type": "scattergl"
           }
          ],
          "scattermapbox": [
           {
            "marker": {
             "colorbar": {
              "outlinewidth": 0,
              "ticks": ""
             }
            },
            "type": "scattermapbox"
           }
          ],
          "scatterpolar": [
           {
            "marker": {
             "colorbar": {
              "outlinewidth": 0,
              "ticks": ""
             }
            },
            "type": "scatterpolar"
           }
          ],
          "scatterpolargl": [
           {
            "marker": {
             "colorbar": {
              "outlinewidth": 0,
              "ticks": ""
             }
            },
            "type": "scatterpolargl"
           }
          ],
          "scatterternary": [
           {
            "marker": {
             "colorbar": {
              "outlinewidth": 0,
              "ticks": ""
             }
            },
            "type": "scatterternary"
           }
          ],
          "surface": [
           {
            "colorbar": {
             "outlinewidth": 0,
             "ticks": ""
            },
            "colorscale": [
             [
              0,
              "#0d0887"
             ],
             [
              0.1111111111111111,
              "#46039f"
             ],
             [
              0.2222222222222222,
              "#7201a8"
             ],
             [
              0.3333333333333333,
              "#9c179e"
             ],
             [
              0.4444444444444444,
              "#bd3786"
             ],
             [
              0.5555555555555556,
              "#d8576b"
             ],
             [
              0.6666666666666666,
              "#ed7953"
             ],
             [
              0.7777777777777778,
              "#fb9f3a"
             ],
             [
              0.8888888888888888,
              "#fdca26"
             ],
             [
              1,
              "#f0f921"
             ]
            ],
            "type": "surface"
           }
          ],
          "table": [
           {
            "cells": {
             "fill": {
              "color": "#EBF0F8"
             },
             "line": {
              "color": "white"
             }
            },
            "header": {
             "fill": {
              "color": "#C8D4E3"
             },
             "line": {
              "color": "white"
             }
            },
            "type": "table"
           }
          ]
         },
         "layout": {
          "annotationdefaults": {
           "arrowcolor": "#2a3f5f",
           "arrowhead": 0,
           "arrowwidth": 1
          },
          "autotypenumbers": "strict",
          "coloraxis": {
           "colorbar": {
            "outlinewidth": 0,
            "ticks": ""
           }
          },
          "colorscale": {
           "diverging": [
            [
             0,
             "#8e0152"
            ],
            [
             0.1,
             "#c51b7d"
            ],
            [
             0.2,
             "#de77ae"
            ],
            [
             0.3,
             "#f1b6da"
            ],
            [
             0.4,
             "#fde0ef"
            ],
            [
             0.5,
             "#f7f7f7"
            ],
            [
             0.6,
             "#e6f5d0"
            ],
            [
             0.7,
             "#b8e186"
            ],
            [
             0.8,
             "#7fbc41"
            ],
            [
             0.9,
             "#4d9221"
            ],
            [
             1,
             "#276419"
            ]
           ],
           "sequential": [
            [
             0,
             "#0d0887"
            ],
            [
             0.1111111111111111,
             "#46039f"
            ],
            [
             0.2222222222222222,
             "#7201a8"
            ],
            [
             0.3333333333333333,
             "#9c179e"
            ],
            [
             0.4444444444444444,
             "#bd3786"
            ],
            [
             0.5555555555555556,
             "#d8576b"
            ],
            [
             0.6666666666666666,
             "#ed7953"
            ],
            [
             0.7777777777777778,
             "#fb9f3a"
            ],
            [
             0.8888888888888888,
             "#fdca26"
            ],
            [
             1,
             "#f0f921"
            ]
           ],
           "sequentialminus": [
            [
             0,
             "#0d0887"
            ],
            [
             0.1111111111111111,
             "#46039f"
            ],
            [
             0.2222222222222222,
             "#7201a8"
            ],
            [
             0.3333333333333333,
             "#9c179e"
            ],
            [
             0.4444444444444444,
             "#bd3786"
            ],
            [
             0.5555555555555556,
             "#d8576b"
            ],
            [
             0.6666666666666666,
             "#ed7953"
            ],
            [
             0.7777777777777778,
             "#fb9f3a"
            ],
            [
             0.8888888888888888,
             "#fdca26"
            ],
            [
             1,
             "#f0f921"
            ]
           ]
          },
          "colorway": [
           "#636efa",
           "#EF553B",
           "#00cc96",
           "#ab63fa",
           "#FFA15A",
           "#19d3f3",
           "#FF6692",
           "#B6E880",
           "#FF97FF",
           "#FECB52"
          ],
          "font": {
           "color": "#2a3f5f"
          },
          "geo": {
           "bgcolor": "white",
           "lakecolor": "white",
           "landcolor": "#E5ECF6",
           "showlakes": true,
           "showland": true,
           "subunitcolor": "white"
          },
          "hoverlabel": {
           "align": "left"
          },
          "hovermode": "closest",
          "mapbox": {
           "style": "light"
          },
          "paper_bgcolor": "white",
          "plot_bgcolor": "#E5ECF6",
          "polar": {
           "angularaxis": {
            "gridcolor": "white",
            "linecolor": "white",
            "ticks": ""
           },
           "bgcolor": "#E5ECF6",
           "radialaxis": {
            "gridcolor": "white",
            "linecolor": "white",
            "ticks": ""
           }
          },
          "scene": {
           "xaxis": {
            "backgroundcolor": "#E5ECF6",
            "gridcolor": "white",
            "gridwidth": 2,
            "linecolor": "white",
            "showbackground": true,
            "ticks": "",
            "zerolinecolor": "white"
           },
           "yaxis": {
            "backgroundcolor": "#E5ECF6",
            "gridcolor": "white",
            "gridwidth": 2,
            "linecolor": "white",
            "showbackground": true,
            "ticks": "",
            "zerolinecolor": "white"
           },
           "zaxis": {
            "backgroundcolor": "#E5ECF6",
            "gridcolor": "white",
            "gridwidth": 2,
            "linecolor": "white",
            "showbackground": true,
            "ticks": "",
            "zerolinecolor": "white"
           }
          },
          "shapedefaults": {
           "line": {
            "color": "#2a3f5f"
           }
          },
          "ternary": {
           "aaxis": {
            "gridcolor": "white",
            "linecolor": "white",
            "ticks": ""
           },
           "baxis": {
            "gridcolor": "white",
            "linecolor": "white",
            "ticks": ""
           },
           "bgcolor": "#E5ECF6",
           "caxis": {
            "gridcolor": "white",
            "linecolor": "white",
            "ticks": ""
           }
          },
          "title": {
           "x": 0.05
          },
          "xaxis": {
           "automargin": true,
           "gridcolor": "white",
           "linecolor": "white",
           "ticks": "",
           "title": {
            "standoff": 15
           },
           "zerolinecolor": "white",
           "zerolinewidth": 2
          },
          "yaxis": {
           "automargin": true,
           "gridcolor": "white",
           "linecolor": "white",
           "ticks": "",
           "title": {
            "standoff": 15
           },
           "zerolinecolor": "white",
           "zerolinewidth": 2
          }
         }
        },
        "title": {
         "text": "Waktu Login Berdasarkan Kategori Usia "
        },
        "xaxis": {
         "title": {
          "text": "Waktu Login"
         }
        },
        "yaxis": {
         "title": {
          "text": "Total Login"
         }
        }
       }
      }
     },
     "metadata": {},
     "output_type": "display_data"
    }
   ],
   "source": [
    "# Membuat visualisasi menggunakan Plotly\n",
    "fig = go.Figure()\n",
    "\n",
    "# Menentukan warna untuk setiap kategori Digital_Interest\n",
    "colors = {\n",
    "    'Dini Hari': 'lightseagreen',\n",
    "    'Pagi': 'lightsalmon',\n",
    "    'Siang': 'lightblue',\n",
    "    'Malam': 'lightcoral',\n",
    "    # Tambahkan kategori lainnya dan warnanya sesuai keinginan\n",
    "}\n",
    "\n",
    "# Menambahkan bar untuk setiap kategori digital interest\n",
    "for interest in login_time['Waktu_login'].unique():\n",
    "    # Filter data berdasarkan digital interest\n",
    "    filtered_data = login_time[login_time['Waktu_login'] == interest]\n",
    "    \n",
    "    # Menambahkan bar trace untuk setiap kategori digital interest\n",
    "    fig.add_trace(go.Bar(\n",
    "        x=filtered_data['Kategori_Usia'],\n",
    "        y=filtered_data['Total_login'],\n",
    "        name=interest,\n",
    "        marker_color=colors.get(interest, 'gray')  # Menggunakan warna sesuai kategori\n",
    "    ))\n",
    "\n",
    "# Menambahkan layout\n",
    "fig.update_layout(\n",
    "    title='Waktu Login Berdasarkan Kategori Usia ',\n",
    "    xaxis_title='Waktu Login',\n",
    "    yaxis_title='Total Login',\n",
    "    barmode='group'\n",
    ")\n",
    "\n",
    "# Menampilkan plot\n",
    "fig.show()"
   ]
  },
  {
   "cell_type": "markdown",
   "metadata": {},
   "source": [
    "Dari Visualisasi diatas diketahui wawasan tentang perbedaan minat digital di antara kelompok usia yang berbeda pada waktu-waktu tertentu dalam sehari.\n",
    "\n",
    "- Orang-orang dikategori Dewasa cenderung aktif di waktu pagi dan malam hari, hal ini menunjukan padatnya pola kegiatan mereka di siang hari yang mereka gunakan untuk bekerja, dan pada dini hari mereka cenderung lebih memilih untuk beristirahat agar keesokan harinya memiliki cukup tenaga untuk kembali bekerja\n",
    "\n",
    "- Orang-orang dikategori Remaja menunjukkan minat yang signifikan pada aktivitas digital,Kelompok Remaja cenderung lebih aktif secara digital pada pagi hari dan dini hari kemungkinan karena kebiasaan tidur yang lebih larut. Hal ini mencerminkan gaya hidup mereka yang lebih dinamis dan cenderung lebih bebas dalam mengatur waktu\n",
    "\n",
    "- Orang-orang dikategori Lansia cenderung memiliki minat digital yang lebih rendah dibandingkan dengan kelompok usia lainnya. Minat mereka relatif merata sepanjang hari. Ini mungkin menunjukkan bahwa lansia lebih fleksibel dalam waktu akses digital mereka.\n",
    "\n",
    "Insight dan Implikasi:\n",
    "- Dengan memahami pola minat yang berbeda, strategi pemasaran yang lebih efektif dapat disusun untuk setiap segmen.\n",
    "- Konten dapat disesuaikan dengan waktu dan kelompok usia. Misalnya, menyediakan konten hiburan di malam hari untuk dewasa, atau konten interaktif dan sesuai tren untuk remaja.\n",
    "- Mengetahui waktu puncak aktivitas digital untuk setiap kelompok usia memungkinkan penentuan waktu yang paling efektif untuk mengadakan promosi.\n",
    "\n",
    ">Selanjutnya akan dilakukan analisis lebih lanjut terkait jenis aktivitas digital apa yang paling populer di setiap kelompok usia dan waktu tertentu?"
   ]
  },
  {
   "cell_type": "markdown",
   "metadata": {},
   "source": [
    "## 4. Digital Interest Berdasarkan Waktu Login"
   ]
  },
  {
   "cell_type": "code",
   "execution_count": 23,
   "metadata": {},
   "outputs": [
    {
     "data": {
      "text/html": [
       "<div>\n",
       "<style scoped>\n",
       "    .dataframe tbody tr th:only-of-type {\n",
       "        vertical-align: middle;\n",
       "    }\n",
       "\n",
       "    .dataframe tbody tr th {\n",
       "        vertical-align: top;\n",
       "    }\n",
       "\n",
       "    .dataframe thead th {\n",
       "        text-align: right;\n",
       "    }\n",
       "</style>\n",
       "<table border=\"1\" class=\"dataframe\">\n",
       "  <thead>\n",
       "    <tr style=\"text-align: right;\">\n",
       "      <th></th>\n",
       "      <th>Waktu_login</th>\n",
       "      <th>Digital_Interest</th>\n",
       "      <th>Total_login</th>\n",
       "    </tr>\n",
       "  </thead>\n",
       "  <tbody>\n",
       "    <tr>\n",
       "      <th>0</th>\n",
       "      <td>Dini Hari</td>\n",
       "      <td>Gaming</td>\n",
       "      <td>55</td>\n",
       "    </tr>\n",
       "    <tr>\n",
       "      <th>1</th>\n",
       "      <td>Dini Hari</td>\n",
       "      <td>Shopping</td>\n",
       "      <td>66</td>\n",
       "    </tr>\n",
       "    <tr>\n",
       "      <th>2</th>\n",
       "      <td>Dini Hari</td>\n",
       "      <td>Social Media</td>\n",
       "      <td>43</td>\n",
       "    </tr>\n",
       "    <tr>\n",
       "      <th>3</th>\n",
       "      <td>Dini Hari</td>\n",
       "      <td>Streaming</td>\n",
       "      <td>51</td>\n",
       "    </tr>\n",
       "    <tr>\n",
       "      <th>4</th>\n",
       "      <td>Malam</td>\n",
       "      <td>Gaming</td>\n",
       "      <td>71</td>\n",
       "    </tr>\n",
       "    <tr>\n",
       "      <th>5</th>\n",
       "      <td>Malam</td>\n",
       "      <td>Shopping</td>\n",
       "      <td>68</td>\n",
       "    </tr>\n",
       "    <tr>\n",
       "      <th>6</th>\n",
       "      <td>Malam</td>\n",
       "      <td>Social Media</td>\n",
       "      <td>78</td>\n",
       "    </tr>\n",
       "    <tr>\n",
       "      <th>7</th>\n",
       "      <td>Malam</td>\n",
       "      <td>Streaming</td>\n",
       "      <td>72</td>\n",
       "    </tr>\n",
       "    <tr>\n",
       "      <th>8</th>\n",
       "      <td>Pagi</td>\n",
       "      <td>Gaming</td>\n",
       "      <td>51</td>\n",
       "    </tr>\n",
       "    <tr>\n",
       "      <th>9</th>\n",
       "      <td>Pagi</td>\n",
       "      <td>Shopping</td>\n",
       "      <td>86</td>\n",
       "    </tr>\n",
       "    <tr>\n",
       "      <th>10</th>\n",
       "      <td>Pagi</td>\n",
       "      <td>Social Media</td>\n",
       "      <td>83</td>\n",
       "    </tr>\n",
       "    <tr>\n",
       "      <th>11</th>\n",
       "      <td>Pagi</td>\n",
       "      <td>Streaming</td>\n",
       "      <td>73</td>\n",
       "    </tr>\n",
       "    <tr>\n",
       "      <th>12</th>\n",
       "      <td>Siang</td>\n",
       "      <td>Gaming</td>\n",
       "      <td>46</td>\n",
       "    </tr>\n",
       "    <tr>\n",
       "      <th>13</th>\n",
       "      <td>Siang</td>\n",
       "      <td>Shopping</td>\n",
       "      <td>50</td>\n",
       "    </tr>\n",
       "    <tr>\n",
       "      <th>14</th>\n",
       "      <td>Siang</td>\n",
       "      <td>Social Media</td>\n",
       "      <td>49</td>\n",
       "    </tr>\n",
       "    <tr>\n",
       "      <th>15</th>\n",
       "      <td>Siang</td>\n",
       "      <td>Streaming</td>\n",
       "      <td>58</td>\n",
       "    </tr>\n",
       "  </tbody>\n",
       "</table>\n",
       "</div>"
      ],
      "text/plain": [
       "   Waktu_login Digital_Interest  Total_login\n",
       "0    Dini Hari           Gaming           55\n",
       "1    Dini Hari         Shopping           66\n",
       "2    Dini Hari     Social Media           43\n",
       "3    Dini Hari        Streaming           51\n",
       "4        Malam           Gaming           71\n",
       "5        Malam         Shopping           68\n",
       "6        Malam     Social Media           78\n",
       "7        Malam        Streaming           72\n",
       "8         Pagi           Gaming           51\n",
       "9         Pagi         Shopping           86\n",
       "10        Pagi     Social Media           83\n",
       "11        Pagi        Streaming           73\n",
       "12       Siang           Gaming           46\n",
       "13       Siang         Shopping           50\n",
       "14       Siang     Social Media           49\n",
       "15       Siang        Streaming           58"
      ]
     },
     "execution_count": 23,
     "metadata": {},
     "output_type": "execute_result"
    }
   ],
   "source": [
    "digital_interest = df.groupby(['Waktu_login','Digital_Interest'])['Kategori_Usia'].count().reset_index(name='Total_login')\n",
    "digital_interest"
   ]
  },
  {
   "cell_type": "code",
   "execution_count": 24,
   "metadata": {},
   "outputs": [
    {
     "data": {
      "application/vnd.plotly.v1+json": {
       "config": {
        "plotlyServerURL": "https://plot.ly"
       },
       "data": [
        {
         "marker": {
          "color": "lightseagreen"
         },
         "name": "Gaming",
         "type": "bar",
         "x": [
          "Dini Hari",
          "Malam",
          "Pagi",
          "Siang"
         ],
         "y": [
          55,
          71,
          51,
          46
         ]
        },
        {
         "marker": {
          "color": "lightsalmon"
         },
         "name": "Shopping",
         "type": "bar",
         "x": [
          "Dini Hari",
          "Malam",
          "Pagi",
          "Siang"
         ],
         "y": [
          66,
          68,
          86,
          50
         ]
        },
        {
         "marker": {
          "color": "lightblue"
         },
         "name": "Social Media",
         "type": "bar",
         "x": [
          "Dini Hari",
          "Malam",
          "Pagi",
          "Siang"
         ],
         "y": [
          43,
          78,
          83,
          49
         ]
        },
        {
         "marker": {
          "color": "gray"
         },
         "name": "Streaming",
         "type": "bar",
         "x": [
          "Dini Hari",
          "Malam",
          "Pagi",
          "Siang"
         ],
         "y": [
          51,
          72,
          73,
          58
         ]
        }
       ],
       "layout": {
        "barmode": "group",
        "template": {
         "data": {
          "bar": [
           {
            "error_x": {
             "color": "#2a3f5f"
            },
            "error_y": {
             "color": "#2a3f5f"
            },
            "marker": {
             "line": {
              "color": "#E5ECF6",
              "width": 0.5
             },
             "pattern": {
              "fillmode": "overlay",
              "size": 10,
              "solidity": 0.2
             }
            },
            "type": "bar"
           }
          ],
          "barpolar": [
           {
            "marker": {
             "line": {
              "color": "#E5ECF6",
              "width": 0.5
             },
             "pattern": {
              "fillmode": "overlay",
              "size": 10,
              "solidity": 0.2
             }
            },
            "type": "barpolar"
           }
          ],
          "carpet": [
           {
            "aaxis": {
             "endlinecolor": "#2a3f5f",
             "gridcolor": "white",
             "linecolor": "white",
             "minorgridcolor": "white",
             "startlinecolor": "#2a3f5f"
            },
            "baxis": {
             "endlinecolor": "#2a3f5f",
             "gridcolor": "white",
             "linecolor": "white",
             "minorgridcolor": "white",
             "startlinecolor": "#2a3f5f"
            },
            "type": "carpet"
           }
          ],
          "choropleth": [
           {
            "colorbar": {
             "outlinewidth": 0,
             "ticks": ""
            },
            "type": "choropleth"
           }
          ],
          "contour": [
           {
            "colorbar": {
             "outlinewidth": 0,
             "ticks": ""
            },
            "colorscale": [
             [
              0,
              "#0d0887"
             ],
             [
              0.1111111111111111,
              "#46039f"
             ],
             [
              0.2222222222222222,
              "#7201a8"
             ],
             [
              0.3333333333333333,
              "#9c179e"
             ],
             [
              0.4444444444444444,
              "#bd3786"
             ],
             [
              0.5555555555555556,
              "#d8576b"
             ],
             [
              0.6666666666666666,
              "#ed7953"
             ],
             [
              0.7777777777777778,
              "#fb9f3a"
             ],
             [
              0.8888888888888888,
              "#fdca26"
             ],
             [
              1,
              "#f0f921"
             ]
            ],
            "type": "contour"
           }
          ],
          "contourcarpet": [
           {
            "colorbar": {
             "outlinewidth": 0,
             "ticks": ""
            },
            "type": "contourcarpet"
           }
          ],
          "heatmap": [
           {
            "colorbar": {
             "outlinewidth": 0,
             "ticks": ""
            },
            "colorscale": [
             [
              0,
              "#0d0887"
             ],
             [
              0.1111111111111111,
              "#46039f"
             ],
             [
              0.2222222222222222,
              "#7201a8"
             ],
             [
              0.3333333333333333,
              "#9c179e"
             ],
             [
              0.4444444444444444,
              "#bd3786"
             ],
             [
              0.5555555555555556,
              "#d8576b"
             ],
             [
              0.6666666666666666,
              "#ed7953"
             ],
             [
              0.7777777777777778,
              "#fb9f3a"
             ],
             [
              0.8888888888888888,
              "#fdca26"
             ],
             [
              1,
              "#f0f921"
             ]
            ],
            "type": "heatmap"
           }
          ],
          "heatmapgl": [
           {
            "colorbar": {
             "outlinewidth": 0,
             "ticks": ""
            },
            "colorscale": [
             [
              0,
              "#0d0887"
             ],
             [
              0.1111111111111111,
              "#46039f"
             ],
             [
              0.2222222222222222,
              "#7201a8"
             ],
             [
              0.3333333333333333,
              "#9c179e"
             ],
             [
              0.4444444444444444,
              "#bd3786"
             ],
             [
              0.5555555555555556,
              "#d8576b"
             ],
             [
              0.6666666666666666,
              "#ed7953"
             ],
             [
              0.7777777777777778,
              "#fb9f3a"
             ],
             [
              0.8888888888888888,
              "#fdca26"
             ],
             [
              1,
              "#f0f921"
             ]
            ],
            "type": "heatmapgl"
           }
          ],
          "histogram": [
           {
            "marker": {
             "pattern": {
              "fillmode": "overlay",
              "size": 10,
              "solidity": 0.2
             }
            },
            "type": "histogram"
           }
          ],
          "histogram2d": [
           {
            "colorbar": {
             "outlinewidth": 0,
             "ticks": ""
            },
            "colorscale": [
             [
              0,
              "#0d0887"
             ],
             [
              0.1111111111111111,
              "#46039f"
             ],
             [
              0.2222222222222222,
              "#7201a8"
             ],
             [
              0.3333333333333333,
              "#9c179e"
             ],
             [
              0.4444444444444444,
              "#bd3786"
             ],
             [
              0.5555555555555556,
              "#d8576b"
             ],
             [
              0.6666666666666666,
              "#ed7953"
             ],
             [
              0.7777777777777778,
              "#fb9f3a"
             ],
             [
              0.8888888888888888,
              "#fdca26"
             ],
             [
              1,
              "#f0f921"
             ]
            ],
            "type": "histogram2d"
           }
          ],
          "histogram2dcontour": [
           {
            "colorbar": {
             "outlinewidth": 0,
             "ticks": ""
            },
            "colorscale": [
             [
              0,
              "#0d0887"
             ],
             [
              0.1111111111111111,
              "#46039f"
             ],
             [
              0.2222222222222222,
              "#7201a8"
             ],
             [
              0.3333333333333333,
              "#9c179e"
             ],
             [
              0.4444444444444444,
              "#bd3786"
             ],
             [
              0.5555555555555556,
              "#d8576b"
             ],
             [
              0.6666666666666666,
              "#ed7953"
             ],
             [
              0.7777777777777778,
              "#fb9f3a"
             ],
             [
              0.8888888888888888,
              "#fdca26"
             ],
             [
              1,
              "#f0f921"
             ]
            ],
            "type": "histogram2dcontour"
           }
          ],
          "mesh3d": [
           {
            "colorbar": {
             "outlinewidth": 0,
             "ticks": ""
            },
            "type": "mesh3d"
           }
          ],
          "parcoords": [
           {
            "line": {
             "colorbar": {
              "outlinewidth": 0,
              "ticks": ""
             }
            },
            "type": "parcoords"
           }
          ],
          "pie": [
           {
            "automargin": true,
            "type": "pie"
           }
          ],
          "scatter": [
           {
            "fillpattern": {
             "fillmode": "overlay",
             "size": 10,
             "solidity": 0.2
            },
            "type": "scatter"
           }
          ],
          "scatter3d": [
           {
            "line": {
             "colorbar": {
              "outlinewidth": 0,
              "ticks": ""
             }
            },
            "marker": {
             "colorbar": {
              "outlinewidth": 0,
              "ticks": ""
             }
            },
            "type": "scatter3d"
           }
          ],
          "scattercarpet": [
           {
            "marker": {
             "colorbar": {
              "outlinewidth": 0,
              "ticks": ""
             }
            },
            "type": "scattercarpet"
           }
          ],
          "scattergeo": [
           {
            "marker": {
             "colorbar": {
              "outlinewidth": 0,
              "ticks": ""
             }
            },
            "type": "scattergeo"
           }
          ],
          "scattergl": [
           {
            "marker": {
             "colorbar": {
              "outlinewidth": 0,
              "ticks": ""
             }
            },
            "type": "scattergl"
           }
          ],
          "scattermapbox": [
           {
            "marker": {
             "colorbar": {
              "outlinewidth": 0,
              "ticks": ""
             }
            },
            "type": "scattermapbox"
           }
          ],
          "scatterpolar": [
           {
            "marker": {
             "colorbar": {
              "outlinewidth": 0,
              "ticks": ""
             }
            },
            "type": "scatterpolar"
           }
          ],
          "scatterpolargl": [
           {
            "marker": {
             "colorbar": {
              "outlinewidth": 0,
              "ticks": ""
             }
            },
            "type": "scatterpolargl"
           }
          ],
          "scatterternary": [
           {
            "marker": {
             "colorbar": {
              "outlinewidth": 0,
              "ticks": ""
             }
            },
            "type": "scatterternary"
           }
          ],
          "surface": [
           {
            "colorbar": {
             "outlinewidth": 0,
             "ticks": ""
            },
            "colorscale": [
             [
              0,
              "#0d0887"
             ],
             [
              0.1111111111111111,
              "#46039f"
             ],
             [
              0.2222222222222222,
              "#7201a8"
             ],
             [
              0.3333333333333333,
              "#9c179e"
             ],
             [
              0.4444444444444444,
              "#bd3786"
             ],
             [
              0.5555555555555556,
              "#d8576b"
             ],
             [
              0.6666666666666666,
              "#ed7953"
             ],
             [
              0.7777777777777778,
              "#fb9f3a"
             ],
             [
              0.8888888888888888,
              "#fdca26"
             ],
             [
              1,
              "#f0f921"
             ]
            ],
            "type": "surface"
           }
          ],
          "table": [
           {
            "cells": {
             "fill": {
              "color": "#EBF0F8"
             },
             "line": {
              "color": "white"
             }
            },
            "header": {
             "fill": {
              "color": "#C8D4E3"
             },
             "line": {
              "color": "white"
             }
            },
            "type": "table"
           }
          ]
         },
         "layout": {
          "annotationdefaults": {
           "arrowcolor": "#2a3f5f",
           "arrowhead": 0,
           "arrowwidth": 1
          },
          "autotypenumbers": "strict",
          "coloraxis": {
           "colorbar": {
            "outlinewidth": 0,
            "ticks": ""
           }
          },
          "colorscale": {
           "diverging": [
            [
             0,
             "#8e0152"
            ],
            [
             0.1,
             "#c51b7d"
            ],
            [
             0.2,
             "#de77ae"
            ],
            [
             0.3,
             "#f1b6da"
            ],
            [
             0.4,
             "#fde0ef"
            ],
            [
             0.5,
             "#f7f7f7"
            ],
            [
             0.6,
             "#e6f5d0"
            ],
            [
             0.7,
             "#b8e186"
            ],
            [
             0.8,
             "#7fbc41"
            ],
            [
             0.9,
             "#4d9221"
            ],
            [
             1,
             "#276419"
            ]
           ],
           "sequential": [
            [
             0,
             "#0d0887"
            ],
            [
             0.1111111111111111,
             "#46039f"
            ],
            [
             0.2222222222222222,
             "#7201a8"
            ],
            [
             0.3333333333333333,
             "#9c179e"
            ],
            [
             0.4444444444444444,
             "#bd3786"
            ],
            [
             0.5555555555555556,
             "#d8576b"
            ],
            [
             0.6666666666666666,
             "#ed7953"
            ],
            [
             0.7777777777777778,
             "#fb9f3a"
            ],
            [
             0.8888888888888888,
             "#fdca26"
            ],
            [
             1,
             "#f0f921"
            ]
           ],
           "sequentialminus": [
            [
             0,
             "#0d0887"
            ],
            [
             0.1111111111111111,
             "#46039f"
            ],
            [
             0.2222222222222222,
             "#7201a8"
            ],
            [
             0.3333333333333333,
             "#9c179e"
            ],
            [
             0.4444444444444444,
             "#bd3786"
            ],
            [
             0.5555555555555556,
             "#d8576b"
            ],
            [
             0.6666666666666666,
             "#ed7953"
            ],
            [
             0.7777777777777778,
             "#fb9f3a"
            ],
            [
             0.8888888888888888,
             "#fdca26"
            ],
            [
             1,
             "#f0f921"
            ]
           ]
          },
          "colorway": [
           "#636efa",
           "#EF553B",
           "#00cc96",
           "#ab63fa",
           "#FFA15A",
           "#19d3f3",
           "#FF6692",
           "#B6E880",
           "#FF97FF",
           "#FECB52"
          ],
          "font": {
           "color": "#2a3f5f"
          },
          "geo": {
           "bgcolor": "white",
           "lakecolor": "white",
           "landcolor": "#E5ECF6",
           "showlakes": true,
           "showland": true,
           "subunitcolor": "white"
          },
          "hoverlabel": {
           "align": "left"
          },
          "hovermode": "closest",
          "mapbox": {
           "style": "light"
          },
          "paper_bgcolor": "white",
          "plot_bgcolor": "#E5ECF6",
          "polar": {
           "angularaxis": {
            "gridcolor": "white",
            "linecolor": "white",
            "ticks": ""
           },
           "bgcolor": "#E5ECF6",
           "radialaxis": {
            "gridcolor": "white",
            "linecolor": "white",
            "ticks": ""
           }
          },
          "scene": {
           "xaxis": {
            "backgroundcolor": "#E5ECF6",
            "gridcolor": "white",
            "gridwidth": 2,
            "linecolor": "white",
            "showbackground": true,
            "ticks": "",
            "zerolinecolor": "white"
           },
           "yaxis": {
            "backgroundcolor": "#E5ECF6",
            "gridcolor": "white",
            "gridwidth": 2,
            "linecolor": "white",
            "showbackground": true,
            "ticks": "",
            "zerolinecolor": "white"
           },
           "zaxis": {
            "backgroundcolor": "#E5ECF6",
            "gridcolor": "white",
            "gridwidth": 2,
            "linecolor": "white",
            "showbackground": true,
            "ticks": "",
            "zerolinecolor": "white"
           }
          },
          "shapedefaults": {
           "line": {
            "color": "#2a3f5f"
           }
          },
          "ternary": {
           "aaxis": {
            "gridcolor": "white",
            "linecolor": "white",
            "ticks": ""
           },
           "baxis": {
            "gridcolor": "white",
            "linecolor": "white",
            "ticks": ""
           },
           "bgcolor": "#E5ECF6",
           "caxis": {
            "gridcolor": "white",
            "linecolor": "white",
            "ticks": ""
           }
          },
          "title": {
           "x": 0.05
          },
          "xaxis": {
           "automargin": true,
           "gridcolor": "white",
           "linecolor": "white",
           "ticks": "",
           "title": {
            "standoff": 15
           },
           "zerolinecolor": "white",
           "zerolinewidth": 2
          },
          "yaxis": {
           "automargin": true,
           "gridcolor": "white",
           "linecolor": "white",
           "ticks": "",
           "title": {
            "standoff": 15
           },
           "zerolinecolor": "white",
           "zerolinewidth": 2
          }
         }
        },
        "title": {
         "text": "Digital Interest Berdasarkan Waktu Login "
        },
        "xaxis": {
         "title": {
          "text": "Waktu Login"
         }
        },
        "yaxis": {
         "title": {
          "text": "Total Login"
         }
        }
       }
      }
     },
     "metadata": {},
     "output_type": "display_data"
    }
   ],
   "source": [
    "# Membuat visualisasi menggunakan Plotly\n",
    "fig = go.Figure()\n",
    "\n",
    "# Menentukan warna untuk setiap kategori Digital_Interest\n",
    "colors = {\n",
    "    'Gaming': 'lightseagreen',\n",
    "    'Shopping': 'lightsalmon',\n",
    "    'Social Media': 'lightblue',\n",
    "    'Education': 'lightcoral',\n",
    "    # Tambahkan kategori lainnya dan warnanya sesuai keinginan\n",
    "}\n",
    "\n",
    "# Menambahkan bar untuk setiap kategori digital interest\n",
    "for interest in digital_interest['Digital_Interest'].unique():\n",
    "    # Filter data berdasarkan digital interest\n",
    "    filtered_data = digital_interest[digital_interest['Digital_Interest'] == interest]\n",
    "    \n",
    "    # Menambahkan bar trace untuk setiap kategori digital interest\n",
    "    fig.add_trace(go.Bar(\n",
    "        x=filtered_data['Waktu_login'],\n",
    "        y=filtered_data['Total_login'],\n",
    "        name=interest,\n",
    "        marker_color=colors.get(interest, 'gray')  # Menggunakan warna sesuai kategori\n",
    "    ))\n",
    "\n",
    "# Menambahkan layout\n",
    "fig.update_layout(\n",
    "    title='Digital Interest Berdasarkan Waktu Login ',\n",
    "    xaxis_title='Waktu Login',\n",
    "    yaxis_title='Total Login',\n",
    "    barmode='group'\n",
    ")\n",
    "\n",
    "# Menampilkan plot\n",
    "fig.show()"
   ]
  },
  {
   "cell_type": "markdown",
   "metadata": {},
   "source": [
    "Dari Visualisasi diatas, diketahui : \n",
    "- Gaming merupakan aktivitas paling populer pada malam hari, yang menunjukkan bahwa banyak orang memilih waktu malam untuk bersantai dan bermain game. Hal ini mencerminkan bagaimana malam hari menjadi waktu utama untuk hiburan digital bagi banyak orang.\n",
    "\n",
    "- Shopping cenderung lebih tinggi pada pagi dan siang hari. Ini bisa jadi karena orang sering melakukan pembelian saat mereka sedang bekerja atau memiliki waktu luang di siang hari. Waktu-waktu ini memungkinkan orang untuk memanfaatkan waktu sejenak untuk melakukan transaksi online.\n",
    "\n",
    "- Penggunaan media sosial cukup merata sepanjang hari, dengan sedikit kecenderungan lebih tinggi pada pagi dan malam hari. Hal ini menunjukkan bahwa media sosial telah menjadi bagian integral dari rutinitas sehari-hari banyak orang, yang aktif baik di pagi hari untuk memulai aktivitas maupun di malam hari untuk bersosialisasi atau menghibur diri.\n",
    "\n",
    "- Sama seperti media sosial, aktivitas streaming juga cukup populer sepanjang hari, namun terdapat sedikit peningkatan pada malam hari. Banyak orang menggunakan waktu malam untuk menonton film atau acara TV sebagai cara untuk bersantai setelah beraktivitas seharian.\n",
    "\n",
    "Insight dan Implikasi:\n",
    "- Pola Penggunaan yang Berbeda: Setiap aktivitas digital memiliki pola penggunaan yang berbeda, yang dapat membantu dalam merancang strategi pemasaran yang lebih efektif. Misalnya, gaming yang lebih populer di malam hari dapat menjadi peluang untuk menawarkan promosi atau konten hiburan pada waktu tersebut.\n",
    "\n",
    "- Waktu Puncak: Mengetahui waktu puncak aktivitas tertentu seperti gaming di malam hari atau belanja online di pagi dan siang hari membantu dalam menentukan waktu yang paling efektif untuk menjalankan promosi pemasaran, menawarkan diskon, atau meningkatkan interaksi di platform tertentu."
   ]
  },
  {
   "cell_type": "markdown",
   "metadata": {},
   "source": [
    "## 5. Digital Interest Berdasarkan Kategori Usia"
   ]
  },
  {
   "cell_type": "code",
   "execution_count": 25,
   "metadata": {},
   "outputs": [
    {
     "data": {
      "text/html": [
       "<div>\n",
       "<style scoped>\n",
       "    .dataframe tbody tr th:only-of-type {\n",
       "        vertical-align: middle;\n",
       "    }\n",
       "\n",
       "    .dataframe tbody tr th {\n",
       "        vertical-align: top;\n",
       "    }\n",
       "\n",
       "    .dataframe thead th {\n",
       "        text-align: right;\n",
       "    }\n",
       "</style>\n",
       "<table border=\"1\" class=\"dataframe\">\n",
       "  <thead>\n",
       "    <tr style=\"text-align: right;\">\n",
       "      <th></th>\n",
       "      <th>Kategori_Usia</th>\n",
       "      <th>Digital_Interest</th>\n",
       "      <th>Total_login</th>\n",
       "    </tr>\n",
       "  </thead>\n",
       "  <tbody>\n",
       "    <tr>\n",
       "      <th>0</th>\n",
       "      <td>Dewasa</td>\n",
       "      <td>Gaming</td>\n",
       "      <td>201</td>\n",
       "    </tr>\n",
       "    <tr>\n",
       "      <th>1</th>\n",
       "      <td>Dewasa</td>\n",
       "      <td>Shopping</td>\n",
       "      <td>242</td>\n",
       "    </tr>\n",
       "    <tr>\n",
       "      <th>2</th>\n",
       "      <td>Dewasa</td>\n",
       "      <td>Social Media</td>\n",
       "      <td>218</td>\n",
       "    </tr>\n",
       "    <tr>\n",
       "      <th>3</th>\n",
       "      <td>Dewasa</td>\n",
       "      <td>Streaming</td>\n",
       "      <td>237</td>\n",
       "    </tr>\n",
       "    <tr>\n",
       "      <th>4</th>\n",
       "      <td>Lansia</td>\n",
       "      <td>Gaming</td>\n",
       "      <td>6</td>\n",
       "    </tr>\n",
       "    <tr>\n",
       "      <th>5</th>\n",
       "      <td>Lansia</td>\n",
       "      <td>Shopping</td>\n",
       "      <td>10</td>\n",
       "    </tr>\n",
       "    <tr>\n",
       "      <th>6</th>\n",
       "      <td>Lansia</td>\n",
       "      <td>Social Media</td>\n",
       "      <td>11</td>\n",
       "    </tr>\n",
       "    <tr>\n",
       "      <th>7</th>\n",
       "      <td>Lansia</td>\n",
       "      <td>Streaming</td>\n",
       "      <td>4</td>\n",
       "    </tr>\n",
       "    <tr>\n",
       "      <th>8</th>\n",
       "      <td>Remaja</td>\n",
       "      <td>Gaming</td>\n",
       "      <td>16</td>\n",
       "    </tr>\n",
       "    <tr>\n",
       "      <th>9</th>\n",
       "      <td>Remaja</td>\n",
       "      <td>Shopping</td>\n",
       "      <td>18</td>\n",
       "    </tr>\n",
       "    <tr>\n",
       "      <th>10</th>\n",
       "      <td>Remaja</td>\n",
       "      <td>Social Media</td>\n",
       "      <td>24</td>\n",
       "    </tr>\n",
       "    <tr>\n",
       "      <th>11</th>\n",
       "      <td>Remaja</td>\n",
       "      <td>Streaming</td>\n",
       "      <td>13</td>\n",
       "    </tr>\n",
       "  </tbody>\n",
       "</table>\n",
       "</div>"
      ],
      "text/plain": [
       "   Kategori_Usia Digital_Interest  Total_login\n",
       "0         Dewasa           Gaming          201\n",
       "1         Dewasa         Shopping          242\n",
       "2         Dewasa     Social Media          218\n",
       "3         Dewasa        Streaming          237\n",
       "4         Lansia           Gaming            6\n",
       "5         Lansia         Shopping           10\n",
       "6         Lansia     Social Media           11\n",
       "7         Lansia        Streaming            4\n",
       "8         Remaja           Gaming           16\n",
       "9         Remaja         Shopping           18\n",
       "10        Remaja     Social Media           24\n",
       "11        Remaja        Streaming           13"
      ]
     },
     "execution_count": 25,
     "metadata": {},
     "output_type": "execute_result"
    }
   ],
   "source": [
    "digital_interest_bku = df.groupby(['Kategori_Usia','Digital_Interest'])['Kategori_Usia'].count().reset_index(name='Total_login')\n",
    "digital_interest_bku"
   ]
  },
  {
   "cell_type": "code",
   "execution_count": 26,
   "metadata": {},
   "outputs": [
    {
     "data": {
      "application/vnd.plotly.v1+json": {
       "config": {
        "plotlyServerURL": "https://plot.ly"
       },
       "data": [
        {
         "marker": {
          "color": "lightseagreen"
         },
         "name": "Gaming",
         "type": "bar",
         "x": [
          "Dewasa",
          "Lansia",
          "Remaja"
         ],
         "y": [
          201,
          6,
          16
         ]
        },
        {
         "marker": {
          "color": "lightsalmon"
         },
         "name": "Shopping",
         "type": "bar",
         "x": [
          "Dewasa",
          "Lansia",
          "Remaja"
         ],
         "y": [
          242,
          10,
          18
         ]
        },
        {
         "marker": {
          "color": "lightblue"
         },
         "name": "Social Media",
         "type": "bar",
         "x": [
          "Dewasa",
          "Lansia",
          "Remaja"
         ],
         "y": [
          218,
          11,
          24
         ]
        },
        {
         "marker": {
          "color": "gray"
         },
         "name": "Streaming",
         "type": "bar",
         "x": [
          "Dewasa",
          "Lansia",
          "Remaja"
         ],
         "y": [
          237,
          4,
          13
         ]
        }
       ],
       "layout": {
        "barmode": "group",
        "template": {
         "data": {
          "bar": [
           {
            "error_x": {
             "color": "#2a3f5f"
            },
            "error_y": {
             "color": "#2a3f5f"
            },
            "marker": {
             "line": {
              "color": "#E5ECF6",
              "width": 0.5
             },
             "pattern": {
              "fillmode": "overlay",
              "size": 10,
              "solidity": 0.2
             }
            },
            "type": "bar"
           }
          ],
          "barpolar": [
           {
            "marker": {
             "line": {
              "color": "#E5ECF6",
              "width": 0.5
             },
             "pattern": {
              "fillmode": "overlay",
              "size": 10,
              "solidity": 0.2
             }
            },
            "type": "barpolar"
           }
          ],
          "carpet": [
           {
            "aaxis": {
             "endlinecolor": "#2a3f5f",
             "gridcolor": "white",
             "linecolor": "white",
             "minorgridcolor": "white",
             "startlinecolor": "#2a3f5f"
            },
            "baxis": {
             "endlinecolor": "#2a3f5f",
             "gridcolor": "white",
             "linecolor": "white",
             "minorgridcolor": "white",
             "startlinecolor": "#2a3f5f"
            },
            "type": "carpet"
           }
          ],
          "choropleth": [
           {
            "colorbar": {
             "outlinewidth": 0,
             "ticks": ""
            },
            "type": "choropleth"
           }
          ],
          "contour": [
           {
            "colorbar": {
             "outlinewidth": 0,
             "ticks": ""
            },
            "colorscale": [
             [
              0,
              "#0d0887"
             ],
             [
              0.1111111111111111,
              "#46039f"
             ],
             [
              0.2222222222222222,
              "#7201a8"
             ],
             [
              0.3333333333333333,
              "#9c179e"
             ],
             [
              0.4444444444444444,
              "#bd3786"
             ],
             [
              0.5555555555555556,
              "#d8576b"
             ],
             [
              0.6666666666666666,
              "#ed7953"
             ],
             [
              0.7777777777777778,
              "#fb9f3a"
             ],
             [
              0.8888888888888888,
              "#fdca26"
             ],
             [
              1,
              "#f0f921"
             ]
            ],
            "type": "contour"
           }
          ],
          "contourcarpet": [
           {
            "colorbar": {
             "outlinewidth": 0,
             "ticks": ""
            },
            "type": "contourcarpet"
           }
          ],
          "heatmap": [
           {
            "colorbar": {
             "outlinewidth": 0,
             "ticks": ""
            },
            "colorscale": [
             [
              0,
              "#0d0887"
             ],
             [
              0.1111111111111111,
              "#46039f"
             ],
             [
              0.2222222222222222,
              "#7201a8"
             ],
             [
              0.3333333333333333,
              "#9c179e"
             ],
             [
              0.4444444444444444,
              "#bd3786"
             ],
             [
              0.5555555555555556,
              "#d8576b"
             ],
             [
              0.6666666666666666,
              "#ed7953"
             ],
             [
              0.7777777777777778,
              "#fb9f3a"
             ],
             [
              0.8888888888888888,
              "#fdca26"
             ],
             [
              1,
              "#f0f921"
             ]
            ],
            "type": "heatmap"
           }
          ],
          "heatmapgl": [
           {
            "colorbar": {
             "outlinewidth": 0,
             "ticks": ""
            },
            "colorscale": [
             [
              0,
              "#0d0887"
             ],
             [
              0.1111111111111111,
              "#46039f"
             ],
             [
              0.2222222222222222,
              "#7201a8"
             ],
             [
              0.3333333333333333,
              "#9c179e"
             ],
             [
              0.4444444444444444,
              "#bd3786"
             ],
             [
              0.5555555555555556,
              "#d8576b"
             ],
             [
              0.6666666666666666,
              "#ed7953"
             ],
             [
              0.7777777777777778,
              "#fb9f3a"
             ],
             [
              0.8888888888888888,
              "#fdca26"
             ],
             [
              1,
              "#f0f921"
             ]
            ],
            "type": "heatmapgl"
           }
          ],
          "histogram": [
           {
            "marker": {
             "pattern": {
              "fillmode": "overlay",
              "size": 10,
              "solidity": 0.2
             }
            },
            "type": "histogram"
           }
          ],
          "histogram2d": [
           {
            "colorbar": {
             "outlinewidth": 0,
             "ticks": ""
            },
            "colorscale": [
             [
              0,
              "#0d0887"
             ],
             [
              0.1111111111111111,
              "#46039f"
             ],
             [
              0.2222222222222222,
              "#7201a8"
             ],
             [
              0.3333333333333333,
              "#9c179e"
             ],
             [
              0.4444444444444444,
              "#bd3786"
             ],
             [
              0.5555555555555556,
              "#d8576b"
             ],
             [
              0.6666666666666666,
              "#ed7953"
             ],
             [
              0.7777777777777778,
              "#fb9f3a"
             ],
             [
              0.8888888888888888,
              "#fdca26"
             ],
             [
              1,
              "#f0f921"
             ]
            ],
            "type": "histogram2d"
           }
          ],
          "histogram2dcontour": [
           {
            "colorbar": {
             "outlinewidth": 0,
             "ticks": ""
            },
            "colorscale": [
             [
              0,
              "#0d0887"
             ],
             [
              0.1111111111111111,
              "#46039f"
             ],
             [
              0.2222222222222222,
              "#7201a8"
             ],
             [
              0.3333333333333333,
              "#9c179e"
             ],
             [
              0.4444444444444444,
              "#bd3786"
             ],
             [
              0.5555555555555556,
              "#d8576b"
             ],
             [
              0.6666666666666666,
              "#ed7953"
             ],
             [
              0.7777777777777778,
              "#fb9f3a"
             ],
             [
              0.8888888888888888,
              "#fdca26"
             ],
             [
              1,
              "#f0f921"
             ]
            ],
            "type": "histogram2dcontour"
           }
          ],
          "mesh3d": [
           {
            "colorbar": {
             "outlinewidth": 0,
             "ticks": ""
            },
            "type": "mesh3d"
           }
          ],
          "parcoords": [
           {
            "line": {
             "colorbar": {
              "outlinewidth": 0,
              "ticks": ""
             }
            },
            "type": "parcoords"
           }
          ],
          "pie": [
           {
            "automargin": true,
            "type": "pie"
           }
          ],
          "scatter": [
           {
            "fillpattern": {
             "fillmode": "overlay",
             "size": 10,
             "solidity": 0.2
            },
            "type": "scatter"
           }
          ],
          "scatter3d": [
           {
            "line": {
             "colorbar": {
              "outlinewidth": 0,
              "ticks": ""
             }
            },
            "marker": {
             "colorbar": {
              "outlinewidth": 0,
              "ticks": ""
             }
            },
            "type": "scatter3d"
           }
          ],
          "scattercarpet": [
           {
            "marker": {
             "colorbar": {
              "outlinewidth": 0,
              "ticks": ""
             }
            },
            "type": "scattercarpet"
           }
          ],
          "scattergeo": [
           {
            "marker": {
             "colorbar": {
              "outlinewidth": 0,
              "ticks": ""
             }
            },
            "type": "scattergeo"
           }
          ],
          "scattergl": [
           {
            "marker": {
             "colorbar": {
              "outlinewidth": 0,
              "ticks": ""
             }
            },
            "type": "scattergl"
           }
          ],
          "scattermapbox": [
           {
            "marker": {
             "colorbar": {
              "outlinewidth": 0,
              "ticks": ""
             }
            },
            "type": "scattermapbox"
           }
          ],
          "scatterpolar": [
           {
            "marker": {
             "colorbar": {
              "outlinewidth": 0,
              "ticks": ""
             }
            },
            "type": "scatterpolar"
           }
          ],
          "scatterpolargl": [
           {
            "marker": {
             "colorbar": {
              "outlinewidth": 0,
              "ticks": ""
             }
            },
            "type": "scatterpolargl"
           }
          ],
          "scatterternary": [
           {
            "marker": {
             "colorbar": {
              "outlinewidth": 0,
              "ticks": ""
             }
            },
            "type": "scatterternary"
           }
          ],
          "surface": [
           {
            "colorbar": {
             "outlinewidth": 0,
             "ticks": ""
            },
            "colorscale": [
             [
              0,
              "#0d0887"
             ],
             [
              0.1111111111111111,
              "#46039f"
             ],
             [
              0.2222222222222222,
              "#7201a8"
             ],
             [
              0.3333333333333333,
              "#9c179e"
             ],
             [
              0.4444444444444444,
              "#bd3786"
             ],
             [
              0.5555555555555556,
              "#d8576b"
             ],
             [
              0.6666666666666666,
              "#ed7953"
             ],
             [
              0.7777777777777778,
              "#fb9f3a"
             ],
             [
              0.8888888888888888,
              "#fdca26"
             ],
             [
              1,
              "#f0f921"
             ]
            ],
            "type": "surface"
           }
          ],
          "table": [
           {
            "cells": {
             "fill": {
              "color": "#EBF0F8"
             },
             "line": {
              "color": "white"
             }
            },
            "header": {
             "fill": {
              "color": "#C8D4E3"
             },
             "line": {
              "color": "white"
             }
            },
            "type": "table"
           }
          ]
         },
         "layout": {
          "annotationdefaults": {
           "arrowcolor": "#2a3f5f",
           "arrowhead": 0,
           "arrowwidth": 1
          },
          "autotypenumbers": "strict",
          "coloraxis": {
           "colorbar": {
            "outlinewidth": 0,
            "ticks": ""
           }
          },
          "colorscale": {
           "diverging": [
            [
             0,
             "#8e0152"
            ],
            [
             0.1,
             "#c51b7d"
            ],
            [
             0.2,
             "#de77ae"
            ],
            [
             0.3,
             "#f1b6da"
            ],
            [
             0.4,
             "#fde0ef"
            ],
            [
             0.5,
             "#f7f7f7"
            ],
            [
             0.6,
             "#e6f5d0"
            ],
            [
             0.7,
             "#b8e186"
            ],
            [
             0.8,
             "#7fbc41"
            ],
            [
             0.9,
             "#4d9221"
            ],
            [
             1,
             "#276419"
            ]
           ],
           "sequential": [
            [
             0,
             "#0d0887"
            ],
            [
             0.1111111111111111,
             "#46039f"
            ],
            [
             0.2222222222222222,
             "#7201a8"
            ],
            [
             0.3333333333333333,
             "#9c179e"
            ],
            [
             0.4444444444444444,
             "#bd3786"
            ],
            [
             0.5555555555555556,
             "#d8576b"
            ],
            [
             0.6666666666666666,
             "#ed7953"
            ],
            [
             0.7777777777777778,
             "#fb9f3a"
            ],
            [
             0.8888888888888888,
             "#fdca26"
            ],
            [
             1,
             "#f0f921"
            ]
           ],
           "sequentialminus": [
            [
             0,
             "#0d0887"
            ],
            [
             0.1111111111111111,
             "#46039f"
            ],
            [
             0.2222222222222222,
             "#7201a8"
            ],
            [
             0.3333333333333333,
             "#9c179e"
            ],
            [
             0.4444444444444444,
             "#bd3786"
            ],
            [
             0.5555555555555556,
             "#d8576b"
            ],
            [
             0.6666666666666666,
             "#ed7953"
            ],
            [
             0.7777777777777778,
             "#fb9f3a"
            ],
            [
             0.8888888888888888,
             "#fdca26"
            ],
            [
             1,
             "#f0f921"
            ]
           ]
          },
          "colorway": [
           "#636efa",
           "#EF553B",
           "#00cc96",
           "#ab63fa",
           "#FFA15A",
           "#19d3f3",
           "#FF6692",
           "#B6E880",
           "#FF97FF",
           "#FECB52"
          ],
          "font": {
           "color": "#2a3f5f"
          },
          "geo": {
           "bgcolor": "white",
           "lakecolor": "white",
           "landcolor": "#E5ECF6",
           "showlakes": true,
           "showland": true,
           "subunitcolor": "white"
          },
          "hoverlabel": {
           "align": "left"
          },
          "hovermode": "closest",
          "mapbox": {
           "style": "light"
          },
          "paper_bgcolor": "white",
          "plot_bgcolor": "#E5ECF6",
          "polar": {
           "angularaxis": {
            "gridcolor": "white",
            "linecolor": "white",
            "ticks": ""
           },
           "bgcolor": "#E5ECF6",
           "radialaxis": {
            "gridcolor": "white",
            "linecolor": "white",
            "ticks": ""
           }
          },
          "scene": {
           "xaxis": {
            "backgroundcolor": "#E5ECF6",
            "gridcolor": "white",
            "gridwidth": 2,
            "linecolor": "white",
            "showbackground": true,
            "ticks": "",
            "zerolinecolor": "white"
           },
           "yaxis": {
            "backgroundcolor": "#E5ECF6",
            "gridcolor": "white",
            "gridwidth": 2,
            "linecolor": "white",
            "showbackground": true,
            "ticks": "",
            "zerolinecolor": "white"
           },
           "zaxis": {
            "backgroundcolor": "#E5ECF6",
            "gridcolor": "white",
            "gridwidth": 2,
            "linecolor": "white",
            "showbackground": true,
            "ticks": "",
            "zerolinecolor": "white"
           }
          },
          "shapedefaults": {
           "line": {
            "color": "#2a3f5f"
           }
          },
          "ternary": {
           "aaxis": {
            "gridcolor": "white",
            "linecolor": "white",
            "ticks": ""
           },
           "baxis": {
            "gridcolor": "white",
            "linecolor": "white",
            "ticks": ""
           },
           "bgcolor": "#E5ECF6",
           "caxis": {
            "gridcolor": "white",
            "linecolor": "white",
            "ticks": ""
           }
          },
          "title": {
           "x": 0.05
          },
          "xaxis": {
           "automargin": true,
           "gridcolor": "white",
           "linecolor": "white",
           "ticks": "",
           "title": {
            "standoff": 15
           },
           "zerolinecolor": "white",
           "zerolinewidth": 2
          },
          "yaxis": {
           "automargin": true,
           "gridcolor": "white",
           "linecolor": "white",
           "ticks": "",
           "title": {
            "standoff": 15
           },
           "zerolinecolor": "white",
           "zerolinewidth": 2
          }
         }
        },
        "title": {
         "text": "Digital Interest Berdasarkan Kategori Usia "
        },
        "xaxis": {
         "title": {
          "text": "Kategori Usia"
         }
        },
        "yaxis": {
         "title": {
          "text": "Total Login"
         }
        }
       }
      }
     },
     "metadata": {},
     "output_type": "display_data"
    }
   ],
   "source": [
    "# Membuat visualisasi menggunakan Plotly\n",
    "fig = go.Figure()\n",
    "\n",
    "# Menentukan warna untuk setiap kategori Digital_Interest\n",
    "colors = {\n",
    "    'Gaming': 'lightseagreen',\n",
    "    'Shopping': 'lightsalmon',\n",
    "    'Social Media': 'lightblue',\n",
    "    'Education': 'lightcoral',\n",
    "    # Tambahkan kategori lainnya dan warnanya sesuai keinginan\n",
    "}\n",
    "\n",
    "# Menambahkan bar untuk setiap kategori digital interest\n",
    "for interest in digital_interest_bku['Digital_Interest'].unique():\n",
    "    # Filter data berdasarkan digital interest\n",
    "    filtered_data = digital_interest_bku[digital_interest_bku['Digital_Interest'] == interest]\n",
    "    \n",
    "    # Menambahkan bar trace untuk setiap kategori digital interest\n",
    "    fig.add_trace(go.Bar(\n",
    "        x=filtered_data['Kategori_Usia'],\n",
    "        y=filtered_data['Total_login'],\n",
    "        name=interest,\n",
    "        marker_color=colors.get(interest, 'gray')  # Menggunakan warna sesuai kategori\n",
    "    ))\n",
    "\n",
    "# Menambahkan layout\n",
    "fig.update_layout(\n",
    "    title='Digital Interest Berdasarkan Kategori Usia ',\n",
    "    xaxis_title='Kategori Usia',\n",
    "    yaxis_title='Total Login',\n",
    "    barmode='group'\n",
    ")\n",
    "\n",
    "# Menampilkan plot\n",
    "fig.show()"
   ]
  },
  {
   "cell_type": "markdown",
   "metadata": {},
   "source": [
    "Dari Visualisasi diatas,diketahui :\n",
    "\n",
    "- Kelompok dewasa menunjukkan minat yang jauh lebih tinggi dalam berbagai aktivitas digital dibandingkan dengan remaja dan lansia. Hal ini menunjukkan bahwa teknologi digital telah mencapai tingkat yang cukup tinggi pada kelompok dewasa, yang lebih terbuka dan terbiasa dengan penggunaan teknologi dalam kehidupan sehari-hari.\n",
    "\n",
    "- Aktivitas gaming cukup populer di semua kelompok usia, meskipun dengan tingkat yang berbeda. Ini mengindikasikan bahwa gaming telah menjadi bentuk hiburan yang universal, dinikmati oleh berbagai generasi dengan cara dan preferensi masing-masing.\n",
    "\n",
    "- Aktivitas belanja online cukup tinggi di kalangan dewasa, mungkin karena mereka memiliki daya beli yang lebih tinggi dan lebih sering melakukan transaksi online. Ini mencerminkan kebiasaan dewasa yang lebih sering melakukan pembelian barang atau jasa secara daring.\n",
    "\n",
    "- Media Sosial dan Streaming populer di semua kelompok usia, namun dengan pola yang sedikit berbeda. Media sosial cenderung lebih diminati oleh remaja dan dewasa muda, sementara streaming mungkin lebih menarik bagi kelompok dewasa yang lebih tua, yang cenderung lebih suka menikmati konten hiburan melalui film atau acara TV.\n",
    "\n",
    "- Minat kelompok lansia terhadap aktivitas digital secara keseluruhan masih relatif rendah dibandingkan dengan kelompok dewasa dan remaja. Ini bisa disebabkan oleh beberapa faktor, seperti keterbatasan literasi digital atau akses terhadap teknologi yang lebih terbatas pada kelompok usia ini.\n",
    "\n",
    "Insight dan Implikasi:\n",
    "\n",
    "Sesuaikan konten dan promosi berdasarkan usia dan minat pengguna. Misalnya, Anda bisa menawarkan game yang lebih kompleks untuk dewasa, sementara untuk remaja, Anda bisa lebih fokus pada game sosial atau mobile. Selain itu, konten hiburan streaming bisa dioptimalkan untuk segmen dewasa, sementara media sosial dapat difokuskan pada audiens remaja dan dewasa muda."
   ]
  },
  {
   "cell_type": "markdown",
   "metadata": {},
   "source": [
    "## 6. Merek Hp apa yang paling umum digunakan ?"
   ]
  },
  {
   "cell_type": "code",
   "execution_count": 27,
   "metadata": {},
   "outputs": [
    {
     "data": {
      "text/html": [
       "<div>\n",
       "<style scoped>\n",
       "    .dataframe tbody tr th:only-of-type {\n",
       "        vertical-align: middle;\n",
       "    }\n",
       "\n",
       "    .dataframe tbody tr th {\n",
       "        vertical-align: top;\n",
       "    }\n",
       "\n",
       "    .dataframe thead th {\n",
       "        text-align: right;\n",
       "    }\n",
       "</style>\n",
       "<table border=\"1\" class=\"dataframe\">\n",
       "  <thead>\n",
       "    <tr style=\"text-align: right;\">\n",
       "      <th></th>\n",
       "      <th>Merk_Hp</th>\n",
       "      <th>total_pengguna</th>\n",
       "    </tr>\n",
       "  </thead>\n",
       "  <tbody>\n",
       "    <tr>\n",
       "      <th>0</th>\n",
       "      <td>Xiaomi</td>\n",
       "      <td>186</td>\n",
       "    </tr>\n",
       "    <tr>\n",
       "      <th>1</th>\n",
       "      <td>Oppo</td>\n",
       "      <td>180</td>\n",
       "    </tr>\n",
       "    <tr>\n",
       "      <th>2</th>\n",
       "      <td>Redmi</td>\n",
       "      <td>173</td>\n",
       "    </tr>\n",
       "    <tr>\n",
       "      <th>3</th>\n",
       "      <td>Apple</td>\n",
       "      <td>164</td>\n",
       "    </tr>\n",
       "    <tr>\n",
       "      <th>4</th>\n",
       "      <td>Samsung</td>\n",
       "      <td>150</td>\n",
       "    </tr>\n",
       "    <tr>\n",
       "      <th>5</th>\n",
       "      <td>Vivo</td>\n",
       "      <td>147</td>\n",
       "    </tr>\n",
       "  </tbody>\n",
       "</table>\n",
       "</div>"
      ],
      "text/plain": [
       "   Merk_Hp  total_pengguna\n",
       "0   Xiaomi             186\n",
       "1     Oppo             180\n",
       "2    Redmi             173\n",
       "3    Apple             164\n",
       "4  Samsung             150\n",
       "5     Vivo             147"
      ]
     },
     "execution_count": 27,
     "metadata": {},
     "output_type": "execute_result"
    }
   ],
   "source": [
    "brand = df['Merk_Hp'].value_counts().reset_index(name='total_pengguna')\n",
    "brand"
   ]
  },
  {
   "cell_type": "code",
   "execution_count": 28,
   "metadata": {},
   "outputs": [
    {
     "data": {
      "image/png": "[encoded data removed]",
      "text/plain": [
       "<Figure size 1600x500 with 1 Axes>"
      ]
     },
     "metadata": {},
     "output_type": "display_data"
    }
   ],
   "source": [
    "plt.figure(figsize=(16,5))\n",
    "sns.barplot(x='Merk_Hp', y='total_pengguna', data=brand, palette='crest')\n",
    "plt.title('Distribusi Brand berdasarkan penggunanya')\n",
    "plt.xlabel('Merek Handphone')\n",
    "plt.ylabel('Total Pengguna')\n",
    "plt.show()"
   ]
  },
  {
   "cell_type": "markdown",
   "metadata": {},
   "source": [
    "Dari Visualisasi diata, diketahui :\n",
    "- `Xiaomi`, `Oppo`, dan `Redmi` Mendominasi Pasar, Ketiga merek asal Tiongkok ini memimpin dalam jumlah pengguna, mencerminkan popularitas mereka yang sangat tinggi di segmen harga menengah ke bawah. Keberhasilan mereka terletak pada kemampuan untuk menawarkan ponsel berkualitas dengan harga yang terjangkau.\n",
    "\n",
    "- `Apple` dan `Samsung` Tetap Kuat, Meskipun Xiaomi, Oppo, dan Redmi lebih dominan, Apple dan Samsung tetap mempertahankan pangsa pasar yang signifikan. Merek-merek premium ini terus menjadi pilihan utama bagi konsumen yang mengutamakan kualitas dan fitur canggih yang ditawarkan.\n",
    "\n",
    "- Meskipun jumlah penggunanya masih tertinggal, Vivo tak henti-hentinya memperkenalkan inovasi untuk memperkuat posisinya di pasar.\n",
    "\n",
    "Insight dan Implikasi:\n",
    "- Persaingan Ketat di Segmen Menengah: Segmen pasar menengah semakin sengit, dengan Xiaomi, Oppo, dan Redmi berperan sebagai pemain utama. Mereka berhasil menarik perhatian konsumen dengan menghadirkan ponsel berkualitas tanpa menguras kantong.\n",
    "\n",
    "- Merek Premium Tetap Relevan: Meski ada persaingan ketat di pasar menengah, Apple dan Samsung tetap menjadi pilihan utama bagi konsumen yang menginginkan perangkat dengan kualitas unggul dan fitur terbaru."
   ]
  },
  {
   "cell_type": "markdown",
   "metadata": {},
   "source": [
    "## 7. Merk_hp Berdasarkan Kategori Usia"
   ]
  },
  {
   "cell_type": "code",
   "execution_count": 29,
   "metadata": {},
   "outputs": [
    {
     "data": {
      "text/html": [
       "<div>\n",
       "<style scoped>\n",
       "    .dataframe tbody tr th:only-of-type {\n",
       "        vertical-align: middle;\n",
       "    }\n",
       "\n",
       "    .dataframe tbody tr th {\n",
       "        vertical-align: top;\n",
       "    }\n",
       "\n",
       "    .dataframe thead th {\n",
       "        text-align: right;\n",
       "    }\n",
       "</style>\n",
       "<table border=\"1\" class=\"dataframe\">\n",
       "  <thead>\n",
       "    <tr style=\"text-align: right;\">\n",
       "      <th></th>\n",
       "      <th>Merk_Hp</th>\n",
       "      <th>Kategori_Usia</th>\n",
       "      <th>Total Pengguna</th>\n",
       "    </tr>\n",
       "  </thead>\n",
       "  <tbody>\n",
       "    <tr>\n",
       "      <th>0</th>\n",
       "      <td>Apple</td>\n",
       "      <td>Dewasa</td>\n",
       "      <td>143</td>\n",
       "    </tr>\n",
       "    <tr>\n",
       "      <th>1</th>\n",
       "      <td>Apple</td>\n",
       "      <td>Lansia</td>\n",
       "      <td>4</td>\n",
       "    </tr>\n",
       "    <tr>\n",
       "      <th>2</th>\n",
       "      <td>Apple</td>\n",
       "      <td>Remaja</td>\n",
       "      <td>17</td>\n",
       "    </tr>\n",
       "    <tr>\n",
       "      <th>3</th>\n",
       "      <td>Oppo</td>\n",
       "      <td>Dewasa</td>\n",
       "      <td>159</td>\n",
       "    </tr>\n",
       "    <tr>\n",
       "      <th>4</th>\n",
       "      <td>Oppo</td>\n",
       "      <td>Lansia</td>\n",
       "      <td>11</td>\n",
       "    </tr>\n",
       "    <tr>\n",
       "      <th>5</th>\n",
       "      <td>Oppo</td>\n",
       "      <td>Remaja</td>\n",
       "      <td>10</td>\n",
       "    </tr>\n",
       "    <tr>\n",
       "      <th>6</th>\n",
       "      <td>Redmi</td>\n",
       "      <td>Dewasa</td>\n",
       "      <td>160</td>\n",
       "    </tr>\n",
       "    <tr>\n",
       "      <th>7</th>\n",
       "      <td>Redmi</td>\n",
       "      <td>Lansia</td>\n",
       "      <td>2</td>\n",
       "    </tr>\n",
       "    <tr>\n",
       "      <th>8</th>\n",
       "      <td>Redmi</td>\n",
       "      <td>Remaja</td>\n",
       "      <td>11</td>\n",
       "    </tr>\n",
       "    <tr>\n",
       "      <th>9</th>\n",
       "      <td>Samsung</td>\n",
       "      <td>Dewasa</td>\n",
       "      <td>134</td>\n",
       "    </tr>\n",
       "    <tr>\n",
       "      <th>10</th>\n",
       "      <td>Samsung</td>\n",
       "      <td>Lansia</td>\n",
       "      <td>5</td>\n",
       "    </tr>\n",
       "    <tr>\n",
       "      <th>11</th>\n",
       "      <td>Samsung</td>\n",
       "      <td>Remaja</td>\n",
       "      <td>11</td>\n",
       "    </tr>\n",
       "    <tr>\n",
       "      <th>12</th>\n",
       "      <td>Vivo</td>\n",
       "      <td>Dewasa</td>\n",
       "      <td>131</td>\n",
       "    </tr>\n",
       "    <tr>\n",
       "      <th>13</th>\n",
       "      <td>Vivo</td>\n",
       "      <td>Lansia</td>\n",
       "      <td>4</td>\n",
       "    </tr>\n",
       "    <tr>\n",
       "      <th>14</th>\n",
       "      <td>Vivo</td>\n",
       "      <td>Remaja</td>\n",
       "      <td>12</td>\n",
       "    </tr>\n",
       "    <tr>\n",
       "      <th>15</th>\n",
       "      <td>Xiaomi</td>\n",
       "      <td>Dewasa</td>\n",
       "      <td>171</td>\n",
       "    </tr>\n",
       "    <tr>\n",
       "      <th>16</th>\n",
       "      <td>Xiaomi</td>\n",
       "      <td>Lansia</td>\n",
       "      <td>5</td>\n",
       "    </tr>\n",
       "    <tr>\n",
       "      <th>17</th>\n",
       "      <td>Xiaomi</td>\n",
       "      <td>Remaja</td>\n",
       "      <td>10</td>\n",
       "    </tr>\n",
       "  </tbody>\n",
       "</table>\n",
       "</div>"
      ],
      "text/plain": [
       "    Merk_Hp Kategori_Usia  Total Pengguna\n",
       "0     Apple        Dewasa             143\n",
       "1     Apple        Lansia               4\n",
       "2     Apple        Remaja              17\n",
       "3      Oppo        Dewasa             159\n",
       "4      Oppo        Lansia              11\n",
       "5      Oppo        Remaja              10\n",
       "6     Redmi        Dewasa             160\n",
       "7     Redmi        Lansia               2\n",
       "8     Redmi        Remaja              11\n",
       "9   Samsung        Dewasa             134\n",
       "10  Samsung        Lansia               5\n",
       "11  Samsung        Remaja              11\n",
       "12     Vivo        Dewasa             131\n",
       "13     Vivo        Lansia               4\n",
       "14     Vivo        Remaja              12\n",
       "15   Xiaomi        Dewasa             171\n",
       "16   Xiaomi        Lansia               5\n",
       "17   Xiaomi        Remaja              10"
      ]
     },
     "execution_count": 29,
     "metadata": {},
     "output_type": "execute_result"
    }
   ],
   "source": [
    "brand_bku = df.groupby(['Merk_Hp','Kategori_Usia'])['Kategori_Usia'].count().reset_index(name= 'Total Pengguna')\n",
    "brand_bku"
   ]
  },
  {
   "cell_type": "code",
   "execution_count": 30,
   "metadata": {},
   "outputs": [
    {
     "data": {
      "application/vnd.plotly.v1+json": {
       "config": {
        "plotlyServerURL": "https://plot.ly"
       },
       "data": [
        {
         "alignmentgroup": "True",
         "hovertemplate": "Merek HP=Apple<br>Kategori Usia=%{x}<br>Jumlah Pengguna=%{y}<extra></extra>",
         "legendgroup": "Apple",
         "marker": {
          "color": "#636efa",
          "pattern": {
           "shape": ""
          }
         },
         "name": "Apple",
         "offsetgroup": "Apple",
         "orientation": "v",
         "showlegend": true,
         "textposition": "auto",
         "type": "bar",
         "x": [
          "Dewasa",
          "Lansia",
          "Remaja"
         ],
         "xaxis": "x",
         "y": [
          143,
          4,
          17
         ],
         "yaxis": "y"
        },
        {
         "alignmentgroup": "True",
         "hovertemplate": "Merek HP=Oppo<br>Kategori Usia=%{x}<br>Jumlah Pengguna=%{y}<extra></extra>",
         "legendgroup": "Oppo",
         "marker": {
          "color": "#EF553B",
          "pattern": {
           "shape": ""
          }
         },
         "name": "Oppo",
         "offsetgroup": "Oppo",
         "orientation": "v",
         "showlegend": true,
         "textposition": "auto",
         "type": "bar",
         "x": [
          "Dewasa",
          "Lansia",
          "Remaja"
         ],
         "xaxis": "x",
         "y": [
          159,
          11,
          10
         ],
         "yaxis": "y"
        },
        {
         "alignmentgroup": "True",
         "hovertemplate": "Merek HP=Redmi<br>Kategori Usia=%{x}<br>Jumlah Pengguna=%{y}<extra></extra>",
         "legendgroup": "Redmi",
         "marker": {
          "color": "#00cc96",
          "pattern": {
           "shape": ""
          }
         },
         "name": "Redmi",
         "offsetgroup": "Redmi",
         "orientation": "v",
         "showlegend": true,
         "textposition": "auto",
         "type": "bar",
         "x": [
          "Dewasa",
          "Lansia",
          "Remaja"
         ],
         "xaxis": "x",
         "y": [
          160,
          2,
          11
         ],
         "yaxis": "y"
        },
        {
         "alignmentgroup": "True",
         "hovertemplate": "Merek HP=Samsung<br>Kategori Usia=%{x}<br>Jumlah Pengguna=%{y}<extra></extra>",
         "legendgroup": "Samsung",
         "marker": {
          "color": "#ab63fa",
          "pattern": {
           "shape": ""
          }
         },
         "name": "Samsung",
         "offsetgroup": "Samsung",
         "orientation": "v",
         "showlegend": true,
         "textposition": "auto",
         "type": "bar",
         "x": [
          "Dewasa",
          "Lansia",
          "Remaja"
         ],
         "xaxis": "x",
         "y": [
          134,
          5,
          11
         ],
         "yaxis": "y"
        },
        {
         "alignmentgroup": "True",
         "hovertemplate": "Merek HP=Vivo<br>Kategori Usia=%{x}<br>Jumlah Pengguna=%{y}<extra></extra>",
         "legendgroup": "Vivo",
         "marker": {
          "color": "#FFA15A",
          "pattern": {
           "shape": ""
          }
         },
         "name": "Vivo",
         "offsetgroup": "Vivo",
         "orientation": "v",
         "showlegend": true,
         "textposition": "auto",
         "type": "bar",
         "x": [
          "Dewasa",
          "Lansia",
          "Remaja"
         ],
         "xaxis": "x",
         "y": [
          131,
          4,
          12
         ],
         "yaxis": "y"
        },
        {
         "alignmentgroup": "True",
         "hovertemplate": "Merek HP=Xiaomi<br>Kategori Usia=%{x}<br>Jumlah Pengguna=%{y}<extra></extra>",
         "legendgroup": "Xiaomi",
         "marker": {
          "color": "#19d3f3",
          "pattern": {
           "shape": ""
          }
         },
         "name": "Xiaomi",
         "offsetgroup": "Xiaomi",
         "orientation": "v",
         "showlegend": true,
         "textposition": "auto",
         "type": "bar",
         "x": [
          "Dewasa",
          "Lansia",
          "Remaja"
         ],
         "xaxis": "x",
         "y": [
          171,
          5,
          10
         ],
         "yaxis": "y"
        }
       ],
       "layout": {
        "barmode": "group",
        "legend": {
         "title": {
          "text": "Merek HP"
         },
         "tracegroupgap": 0
        },
        "template": {
         "data": {
          "bar": [
           {
            "error_x": {
             "color": "#2a3f5f"
            },
            "error_y": {
             "color": "#2a3f5f"
            },
            "marker": {
             "line": {
              "color": "#E5ECF6",
              "width": 0.5
             },
             "pattern": {
              "fillmode": "overlay",
              "size": 10,
              "solidity": 0.2
             }
            },
            "type": "bar"
           }
          ],
          "barpolar": [
           {
            "marker": {
             "line": {
              "color": "#E5ECF6",
              "width": 0.5
             },
             "pattern": {
              "fillmode": "overlay",
              "size": 10,
              "solidity": 0.2
             }
            },
            "type": "barpolar"
           }
          ],
          "carpet": [
           {
            "aaxis": {
             "endlinecolor": "#2a3f5f",
             "gridcolor": "white",
             "linecolor": "white",
             "minorgridcolor": "white",
             "startlinecolor": "#2a3f5f"
            },
            "baxis": {
             "endlinecolor": "#2a3f5f",
             "gridcolor": "white",
             "linecolor": "white",
             "minorgridcolor": "white",
             "startlinecolor": "#2a3f5f"
            },
            "type": "carpet"
           }
          ],
          "choropleth": [
           {
            "colorbar": {
             "outlinewidth": 0,
             "ticks": ""
            },
            "type": "choropleth"
           }
          ],
          "contour": [
           {
            "colorbar": {
             "outlinewidth": 0,
             "ticks": ""
            },
            "colorscale": [
             [
              0,
              "#0d0887"
             ],
             [
              0.1111111111111111,
              "#46039f"
             ],
             [
              0.2222222222222222,
              "#7201a8"
             ],
             [
              0.3333333333333333,
              "#9c179e"
             ],
             [
              0.4444444444444444,
              "#bd3786"
             ],
             [
              0.5555555555555556,
              "#d8576b"
             ],
             [
              0.6666666666666666,
              "#ed7953"
             ],
             [
              0.7777777777777778,
              "#fb9f3a"
             ],
             [
              0.8888888888888888,
              "#fdca26"
             ],
             [
              1,
              "#f0f921"
             ]
            ],
            "type": "contour"
           }
          ],
          "contourcarpet": [
           {
            "colorbar": {
             "outlinewidth": 0,
             "ticks": ""
            },
            "type": "contourcarpet"
           }
          ],
          "heatmap": [
           {
            "colorbar": {
             "outlinewidth": 0,
             "ticks": ""
            },
            "colorscale": [
             [
              0,
              "#0d0887"
             ],
             [
              0.1111111111111111,
              "#46039f"
             ],
             [
              0.2222222222222222,
              "#7201a8"
             ],
             [
              0.3333333333333333,
              "#9c179e"
             ],
             [
              0.4444444444444444,
              "#bd3786"
             ],
             [
              0.5555555555555556,
              "#d8576b"
             ],
             [
              0.6666666666666666,
              "#ed7953"
             ],
             [
              0.7777777777777778,
              "#fb9f3a"
             ],
             [
              0.8888888888888888,
              "#fdca26"
             ],
             [
              1,
              "#f0f921"
             ]
            ],
            "type": "heatmap"
           }
          ],
          "heatmapgl": [
           {
            "colorbar": {
             "outlinewidth": 0,
             "ticks": ""
            },
            "colorscale": [
             [
              0,
              "#0d0887"
             ],
             [
              0.1111111111111111,
              "#46039f"
             ],
             [
              0.2222222222222222,
              "#7201a8"
             ],
             [
              0.3333333333333333,
              "#9c179e"
             ],
             [
              0.4444444444444444,
              "#bd3786"
             ],
             [
              0.5555555555555556,
              "#d8576b"
             ],
             [
              0.6666666666666666,
              "#ed7953"
             ],
             [
              0.7777777777777778,
              "#fb9f3a"
             ],
             [
              0.8888888888888888,
              "#fdca26"
             ],
             [
              1,
              "#f0f921"
             ]
            ],
            "type": "heatmapgl"
           }
          ],
          "histogram": [
           {
            "marker": {
             "pattern": {
              "fillmode": "overlay",
              "size": 10,
              "solidity": 0.2
             }
            },
            "type": "histogram"
           }
          ],
          "histogram2d": [
           {
            "colorbar": {
             "outlinewidth": 0,
             "ticks": ""
            },
            "colorscale": [
             [
              0,
              "#0d0887"
             ],
             [
              0.1111111111111111,
              "#46039f"
             ],
             [
              0.2222222222222222,
              "#7201a8"
             ],
             [
              0.3333333333333333,
              "#9c179e"
             ],
             [
              0.4444444444444444,
              "#bd3786"
             ],
             [
              0.5555555555555556,
              "#d8576b"
             ],
             [
              0.6666666666666666,
              "#ed7953"
             ],
             [
              0.7777777777777778,
              "#fb9f3a"
             ],
             [
              0.8888888888888888,
              "#fdca26"
             ],
             [
              1,
              "#f0f921"
             ]
            ],
            "type": "histogram2d"
           }
          ],
          "histogram2dcontour": [
           {
            "colorbar": {
             "outlinewidth": 0,
             "ticks": ""
            },
            "colorscale": [
             [
              0,
              "#0d0887"
             ],
             [
              0.1111111111111111,
              "#46039f"
             ],
             [
              0.2222222222222222,
              "#7201a8"
             ],
             [
              0.3333333333333333,
              "#9c179e"
             ],
             [
              0.4444444444444444,
              "#bd3786"
             ],
             [
              0.5555555555555556,
              "#d8576b"
             ],
             [
              0.6666666666666666,
              "#ed7953"
             ],
             [
              0.7777777777777778,
              "#fb9f3a"
             ],
             [
              0.8888888888888888,
              "#fdca26"
             ],
             [
              1,
              "#f0f921"
             ]
            ],
            "type": "histogram2dcontour"
           }
          ],
          "mesh3d": [
           {
            "colorbar": {
             "outlinewidth": 0,
             "ticks": ""
            },
            "type": "mesh3d"
           }
          ],
          "parcoords": [
           {
            "line": {
             "colorbar": {
              "outlinewidth": 0,
              "ticks": ""
             }
            },
            "type": "parcoords"
           }
          ],
          "pie": [
           {
            "automargin": true,
            "type": "pie"
           }
          ],
          "scatter": [
           {
            "fillpattern": {
             "fillmode": "overlay",
             "size": 10,
             "solidity": 0.2
            },
            "type": "scatter"
           }
          ],
          "scatter3d": [
           {
            "line": {
             "colorbar": {
              "outlinewidth": 0,
              "ticks": ""
             }
            },
            "marker": {
             "colorbar": {
              "outlinewidth": 0,
              "ticks": ""
             }
            },
            "type": "scatter3d"
           }
          ],
          "scattercarpet": [
           {
            "marker": {
             "colorbar": {
              "outlinewidth": 0,
              "ticks": ""
             }
            },
            "type": "scattercarpet"
           }
          ],
          "scattergeo": [
           {
            "marker": {
             "colorbar": {
              "outlinewidth": 0,
              "ticks": ""
             }
            },
            "type": "scattergeo"
           }
          ],
          "scattergl": [
           {
            "marker": {
             "colorbar": {
              "outlinewidth": 0,
              "ticks": ""
             }
            },
            "type": "scattergl"
           }
          ],
          "scattermapbox": [
           {
            "marker": {
             "colorbar": {
              "outlinewidth": 0,
              "ticks": ""
             }
            },
            "type": "scattermapbox"
           }
          ],
          "scatterpolar": [
           {
            "marker": {
             "colorbar": {
              "outlinewidth": 0,
              "ticks": ""
             }
            },
            "type": "scatterpolar"
           }
          ],
          "scatterpolargl": [
           {
            "marker": {
             "colorbar": {
              "outlinewidth": 0,
              "ticks": ""
             }
            },
            "type": "scatterpolargl"
           }
          ],
          "scatterternary": [
           {
            "marker": {
             "colorbar": {
              "outlinewidth": 0,
              "ticks": ""
             }
            },
            "type": "scatterternary"
           }
          ],
          "surface": [
           {
            "colorbar": {
             "outlinewidth": 0,
             "ticks": ""
            },
            "colorscale": [
             [
              0,
              "#0d0887"
             ],
             [
              0.1111111111111111,
              "#46039f"
             ],
             [
              0.2222222222222222,
              "#7201a8"
             ],
             [
              0.3333333333333333,
              "#9c179e"
             ],
             [
              0.4444444444444444,
              "#bd3786"
             ],
             [
              0.5555555555555556,
              "#d8576b"
             ],
             [
              0.6666666666666666,
              "#ed7953"
             ],
             [
              0.7777777777777778,
              "#fb9f3a"
             ],
             [
              0.8888888888888888,
              "#fdca26"
             ],
             [
              1,
              "#f0f921"
             ]
            ],
            "type": "surface"
           }
          ],
          "table": [
           {
            "cells": {
             "fill": {
              "color": "#EBF0F8"
             },
             "line": {
              "color": "white"
             }
            },
            "header": {
             "fill": {
              "color": "#C8D4E3"
             },
             "line": {
              "color": "white"
             }
            },
            "type": "table"
           }
          ]
         },
         "layout": {
          "annotationdefaults": {
           "arrowcolor": "#2a3f5f",
           "arrowhead": 0,
           "arrowwidth": 1
          },
          "autotypenumbers": "strict",
          "coloraxis": {
           "colorbar": {
            "outlinewidth": 0,
            "ticks": ""
           }
          },
          "colorscale": {
           "diverging": [
            [
             0,
             "#8e0152"
            ],
            [
             0.1,
             "#c51b7d"
            ],
            [
             0.2,
             "#de77ae"
            ],
            [
             0.3,
             "#f1b6da"
            ],
            [
             0.4,
             "#fde0ef"
            ],
            [
             0.5,
             "#f7f7f7"
            ],
            [
             0.6,
             "#e6f5d0"
            ],
            [
             0.7,
             "#b8e186"
            ],
            [
             0.8,
             "#7fbc41"
            ],
            [
             0.9,
             "#4d9221"
            ],
            [
             1,
             "#276419"
            ]
           ],
           "sequential": [
            [
             0,
             "#0d0887"
            ],
            [
             0.1111111111111111,
             "#46039f"
            ],
            [
             0.2222222222222222,
             "#7201a8"
            ],
            [
             0.3333333333333333,
             "#9c179e"
            ],
            [
             0.4444444444444444,
             "#bd3786"
            ],
            [
             0.5555555555555556,
             "#d8576b"
            ],
            [
             0.6666666666666666,
             "#ed7953"
            ],
            [
             0.7777777777777778,
             "#fb9f3a"
            ],
            [
             0.8888888888888888,
             "#fdca26"
            ],
            [
             1,
             "#f0f921"
            ]
           ],
           "sequentialminus": [
            [
             0,
             "#0d0887"
            ],
            [
             0.1111111111111111,
             "#46039f"
            ],
            [
             0.2222222222222222,
             "#7201a8"
            ],
            [
             0.3333333333333333,
             "#9c179e"
            ],
            [
             0.4444444444444444,
             "#bd3786"
            ],
            [
             0.5555555555555556,
             "#d8576b"
            ],
            [
             0.6666666666666666,
             "#ed7953"
            ],
            [
             0.7777777777777778,
             "#fb9f3a"
            ],
            [
             0.8888888888888888,
             "#fdca26"
            ],
            [
             1,
             "#f0f921"
            ]
           ]
          },
          "colorway": [
           "#636efa",
           "#EF553B",
           "#00cc96",
           "#ab63fa",
           "#FFA15A",
           "#19d3f3",
           "#FF6692",
           "#B6E880",
           "#FF97FF",
           "#FECB52"
          ],
          "font": {
           "color": "#2a3f5f"
          },
          "geo": {
           "bgcolor": "white",
           "lakecolor": "white",
           "landcolor": "#E5ECF6",
           "showlakes": true,
           "showland": true,
           "subunitcolor": "white"
          },
          "hoverlabel": {
           "align": "left"
          },
          "hovermode": "closest",
          "mapbox": {
           "style": "light"
          },
          "paper_bgcolor": "white",
          "plot_bgcolor": "#E5ECF6",
          "polar": {
           "angularaxis": {
            "gridcolor": "white",
            "linecolor": "white",
            "ticks": ""
           },
           "bgcolor": "#E5ECF6",
           "radialaxis": {
            "gridcolor": "white",
            "linecolor": "white",
            "ticks": ""
           }
          },
          "scene": {
           "xaxis": {
            "backgroundcolor": "#E5ECF6",
            "gridcolor": "white",
            "gridwidth": 2,
            "linecolor": "white",
            "showbackground": true,
            "ticks": "",
            "zerolinecolor": "white"
           },
           "yaxis": {
            "backgroundcolor": "#E5ECF6",
            "gridcolor": "white",
            "gridwidth": 2,
            "linecolor": "white",
            "showbackground": true,
            "ticks": "",
            "zerolinecolor": "white"
           },
           "zaxis": {
            "backgroundcolor": "#E5ECF6",
            "gridcolor": "white",
            "gridwidth": 2,
            "linecolor": "white",
            "showbackground": true,
            "ticks": "",
            "zerolinecolor": "white"
           }
          },
          "shapedefaults": {
           "line": {
            "color": "#2a3f5f"
           }
          },
          "ternary": {
           "aaxis": {
            "gridcolor": "white",
            "linecolor": "white",
            "ticks": ""
           },
           "baxis": {
            "gridcolor": "white",
            "linecolor": "white",
            "ticks": ""
           },
           "bgcolor": "#E5ECF6",
           "caxis": {
            "gridcolor": "white",
            "linecolor": "white",
            "ticks": ""
           }
          },
          "title": {
           "x": 0.05
          },
          "xaxis": {
           "automargin": true,
           "gridcolor": "white",
           "linecolor": "white",
           "ticks": "",
           "title": {
            "standoff": 15
           },
           "zerolinecolor": "white",
           "zerolinewidth": 2
          },
          "yaxis": {
           "automargin": true,
           "gridcolor": "white",
           "linecolor": "white",
           "ticks": "",
           "title": {
            "standoff": 15
           },
           "zerolinecolor": "white",
           "zerolinewidth": 2
          }
         }
        },
        "title": {
         "text": "Merek HP Berdasarkan Kategori Usia"
        },
        "xaxis": {
         "anchor": "y",
         "domain": [
          0,
          1
         ],
         "title": {
          "text": "Kategori Usia"
         }
        },
        "yaxis": {
         "anchor": "x",
         "domain": [
          0,
          1
         ],
         "title": {
          "text": "Jumlah Pengguna"
         }
        }
       }
      }
     },
     "metadata": {},
     "output_type": "display_data"
    }
   ],
   "source": [
    "fig = px.bar(brand_bku, \n",
    "             x='Kategori_Usia', \n",
    "             y='Total Pengguna', \n",
    "             color='Merk_Hp', \n",
    "             barmode='group', \n",
    "             title='Merek HP Berdasarkan Kategori Usia',\n",
    "             labels={'Merk_Hp': 'Merek HP', 'Total Pengguna': 'Jumlah Pengguna', 'Kategori_Usia': 'Kategori Usia'})\n",
    "\n",
    "# Menampilkan grafik\n",
    "fig.show()"
   ]
  },
  {
   "cell_type": "markdown",
   "metadata": {},
   "source": [
    "Dari Visualisasi diatas, diketahui: \n",
    "- Kelompok dewasa memiliki preferensi yang cukup beragam. Merek seperti Apple, Oppo, Redmi, Samsung, Vivo, dan Xiaomi semuanya memiliki angka yang signifikan di kalangan dewasa. Hal ini menunjukkan bahwa kelompok dewasa lebih terbuka terhadap berbagai merek dan fitur yang ditawarkan, dengan preferensi yang lebih fleksibel sesuai kebutuhan mereka.\n",
    "\n",
    "- Kelompok remaja cenderung lebih memilih Apple, yang menunjukkan adanya ketertarikan yang tinggi terhadap ponsel dengan fitur premium dan desain yang menarik. Meskipun Xiaomi juga cukup populer, Apple lebih mendominasi di kalangan remaja, yang bisa jadi disebabkan oleh faktor prestise atau daya tarik merek tersebut.\n",
    "\n",
    "- Kelompok lansia memiliki minat yang paling rendah terhadap ponsel pintar secara umum. Namun, di antara merek-merek yang dipilih, Oppo dan Samsung sedikit lebih unggul."
   ]
  },
  {
   "cell_type": "markdown",
   "metadata": {},
   "source": [
    "## 8. Merek Hp berdasarkan Lokasi"
   ]
  },
  {
   "cell_type": "code",
   "execution_count": 31,
   "metadata": {},
   "outputs": [
    {
     "data": {
      "text/html": [
       "<div>\n",
       "<style scoped>\n",
       "    .dataframe tbody tr th:only-of-type {\n",
       "        vertical-align: middle;\n",
       "    }\n",
       "\n",
       "    .dataframe tbody tr th {\n",
       "        vertical-align: top;\n",
       "    }\n",
       "\n",
       "    .dataframe thead th {\n",
       "        text-align: right;\n",
       "    }\n",
       "</style>\n",
       "<table border=\"1\" class=\"dataframe\">\n",
       "  <thead>\n",
       "    <tr style=\"text-align: right;\">\n",
       "      <th></th>\n",
       "      <th>Merk_Hp</th>\n",
       "      <th>Nama_Lokasi</th>\n",
       "      <th>Total Pengguna</th>\n",
       "    </tr>\n",
       "  </thead>\n",
       "  <tbody>\n",
       "    <tr>\n",
       "      <th>0</th>\n",
       "      <td>Apple</td>\n",
       "      <td>Balikpapan</td>\n",
       "      <td>18</td>\n",
       "    </tr>\n",
       "    <tr>\n",
       "      <th>1</th>\n",
       "      <td>Apple</td>\n",
       "      <td>Bandung</td>\n",
       "      <td>13</td>\n",
       "    </tr>\n",
       "    <tr>\n",
       "      <th>2</th>\n",
       "      <td>Apple</td>\n",
       "      <td>Bekasi</td>\n",
       "      <td>14</td>\n",
       "    </tr>\n",
       "    <tr>\n",
       "      <th>3</th>\n",
       "      <td>Apple</td>\n",
       "      <td>Denpasar</td>\n",
       "      <td>19</td>\n",
       "    </tr>\n",
       "    <tr>\n",
       "      <th>4</th>\n",
       "      <td>Apple</td>\n",
       "      <td>Depok</td>\n",
       "      <td>20</td>\n",
       "    </tr>\n",
       "    <tr>\n",
       "      <th>5</th>\n",
       "      <td>Apple</td>\n",
       "      <td>Jakarta</td>\n",
       "      <td>23</td>\n",
       "    </tr>\n",
       "    <tr>\n",
       "      <th>6</th>\n",
       "      <td>Apple</td>\n",
       "      <td>Semarang</td>\n",
       "      <td>19</td>\n",
       "    </tr>\n",
       "    <tr>\n",
       "      <th>7</th>\n",
       "      <td>Apple</td>\n",
       "      <td>Solo</td>\n",
       "      <td>10</td>\n",
       "    </tr>\n",
       "    <tr>\n",
       "      <th>8</th>\n",
       "      <td>Apple</td>\n",
       "      <td>Surabaya</td>\n",
       "      <td>11</td>\n",
       "    </tr>\n",
       "    <tr>\n",
       "      <th>9</th>\n",
       "      <td>Apple</td>\n",
       "      <td>Yogyakarta</td>\n",
       "      <td>17</td>\n",
       "    </tr>\n",
       "    <tr>\n",
       "      <th>10</th>\n",
       "      <td>Oppo</td>\n",
       "      <td>Balikpapan</td>\n",
       "      <td>20</td>\n",
       "    </tr>\n",
       "    <tr>\n",
       "      <th>11</th>\n",
       "      <td>Oppo</td>\n",
       "      <td>Bandung</td>\n",
       "      <td>12</td>\n",
       "    </tr>\n",
       "    <tr>\n",
       "      <th>12</th>\n",
       "      <td>Oppo</td>\n",
       "      <td>Bekasi</td>\n",
       "      <td>19</td>\n",
       "    </tr>\n",
       "    <tr>\n",
       "      <th>13</th>\n",
       "      <td>Oppo</td>\n",
       "      <td>Denpasar</td>\n",
       "      <td>18</td>\n",
       "    </tr>\n",
       "    <tr>\n",
       "      <th>14</th>\n",
       "      <td>Oppo</td>\n",
       "      <td>Depok</td>\n",
       "      <td>17</td>\n",
       "    </tr>\n",
       "    <tr>\n",
       "      <th>15</th>\n",
       "      <td>Oppo</td>\n",
       "      <td>Jakarta</td>\n",
       "      <td>18</td>\n",
       "    </tr>\n",
       "    <tr>\n",
       "      <th>16</th>\n",
       "      <td>Oppo</td>\n",
       "      <td>Semarang</td>\n",
       "      <td>19</td>\n",
       "    </tr>\n",
       "    <tr>\n",
       "      <th>17</th>\n",
       "      <td>Oppo</td>\n",
       "      <td>Solo</td>\n",
       "      <td>21</td>\n",
       "    </tr>\n",
       "    <tr>\n",
       "      <th>18</th>\n",
       "      <td>Oppo</td>\n",
       "      <td>Surabaya</td>\n",
       "      <td>19</td>\n",
       "    </tr>\n",
       "    <tr>\n",
       "      <th>19</th>\n",
       "      <td>Oppo</td>\n",
       "      <td>Yogyakarta</td>\n",
       "      <td>17</td>\n",
       "    </tr>\n",
       "    <tr>\n",
       "      <th>20</th>\n",
       "      <td>Redmi</td>\n",
       "      <td>Balikpapan</td>\n",
       "      <td>18</td>\n",
       "    </tr>\n",
       "    <tr>\n",
       "      <th>21</th>\n",
       "      <td>Redmi</td>\n",
       "      <td>Bandung</td>\n",
       "      <td>20</td>\n",
       "    </tr>\n",
       "    <tr>\n",
       "      <th>22</th>\n",
       "      <td>Redmi</td>\n",
       "      <td>Bekasi</td>\n",
       "      <td>15</td>\n",
       "    </tr>\n",
       "    <tr>\n",
       "      <th>23</th>\n",
       "      <td>Redmi</td>\n",
       "      <td>Denpasar</td>\n",
       "      <td>12</td>\n",
       "    </tr>\n",
       "    <tr>\n",
       "      <th>24</th>\n",
       "      <td>Redmi</td>\n",
       "      <td>Depok</td>\n",
       "      <td>17</td>\n",
       "    </tr>\n",
       "    <tr>\n",
       "      <th>25</th>\n",
       "      <td>Redmi</td>\n",
       "      <td>Jakarta</td>\n",
       "      <td>15</td>\n",
       "    </tr>\n",
       "    <tr>\n",
       "      <th>26</th>\n",
       "      <td>Redmi</td>\n",
       "      <td>Semarang</td>\n",
       "      <td>23</td>\n",
       "    </tr>\n",
       "    <tr>\n",
       "      <th>27</th>\n",
       "      <td>Redmi</td>\n",
       "      <td>Solo</td>\n",
       "      <td>15</td>\n",
       "    </tr>\n",
       "    <tr>\n",
       "      <th>28</th>\n",
       "      <td>Redmi</td>\n",
       "      <td>Surabaya</td>\n",
       "      <td>13</td>\n",
       "    </tr>\n",
       "    <tr>\n",
       "      <th>29</th>\n",
       "      <td>Redmi</td>\n",
       "      <td>Yogyakarta</td>\n",
       "      <td>25</td>\n",
       "    </tr>\n",
       "    <tr>\n",
       "      <th>30</th>\n",
       "      <td>Samsung</td>\n",
       "      <td>Balikpapan</td>\n",
       "      <td>14</td>\n",
       "    </tr>\n",
       "    <tr>\n",
       "      <th>31</th>\n",
       "      <td>Samsung</td>\n",
       "      <td>Bandung</td>\n",
       "      <td>11</td>\n",
       "    </tr>\n",
       "    <tr>\n",
       "      <th>32</th>\n",
       "      <td>Samsung</td>\n",
       "      <td>Bekasi</td>\n",
       "      <td>6</td>\n",
       "    </tr>\n",
       "    <tr>\n",
       "      <th>33</th>\n",
       "      <td>Samsung</td>\n",
       "      <td>Denpasar</td>\n",
       "      <td>21</td>\n",
       "    </tr>\n",
       "    <tr>\n",
       "      <th>34</th>\n",
       "      <td>Samsung</td>\n",
       "      <td>Depok</td>\n",
       "      <td>15</td>\n",
       "    </tr>\n",
       "    <tr>\n",
       "      <th>35</th>\n",
       "      <td>Samsung</td>\n",
       "      <td>Jakarta</td>\n",
       "      <td>18</td>\n",
       "    </tr>\n",
       "    <tr>\n",
       "      <th>36</th>\n",
       "      <td>Samsung</td>\n",
       "      <td>Semarang</td>\n",
       "      <td>13</td>\n",
       "    </tr>\n",
       "    <tr>\n",
       "      <th>37</th>\n",
       "      <td>Samsung</td>\n",
       "      <td>Solo</td>\n",
       "      <td>13</td>\n",
       "    </tr>\n",
       "    <tr>\n",
       "      <th>38</th>\n",
       "      <td>Samsung</td>\n",
       "      <td>Surabaya</td>\n",
       "      <td>21</td>\n",
       "    </tr>\n",
       "    <tr>\n",
       "      <th>39</th>\n",
       "      <td>Samsung</td>\n",
       "      <td>Yogyakarta</td>\n",
       "      <td>18</td>\n",
       "    </tr>\n",
       "    <tr>\n",
       "      <th>40</th>\n",
       "      <td>Vivo</td>\n",
       "      <td>Balikpapan</td>\n",
       "      <td>24</td>\n",
       "    </tr>\n",
       "    <tr>\n",
       "      <th>41</th>\n",
       "      <td>Vivo</td>\n",
       "      <td>Bandung</td>\n",
       "      <td>13</td>\n",
       "    </tr>\n",
       "    <tr>\n",
       "      <th>42</th>\n",
       "      <td>Vivo</td>\n",
       "      <td>Bekasi</td>\n",
       "      <td>11</td>\n",
       "    </tr>\n",
       "    <tr>\n",
       "      <th>43</th>\n",
       "      <td>Vivo</td>\n",
       "      <td>Denpasar</td>\n",
       "      <td>8</td>\n",
       "    </tr>\n",
       "    <tr>\n",
       "      <th>44</th>\n",
       "      <td>Vivo</td>\n",
       "      <td>Depok</td>\n",
       "      <td>21</td>\n",
       "    </tr>\n",
       "    <tr>\n",
       "      <th>45</th>\n",
       "      <td>Vivo</td>\n",
       "      <td>Jakarta</td>\n",
       "      <td>9</td>\n",
       "    </tr>\n",
       "    <tr>\n",
       "      <th>46</th>\n",
       "      <td>Vivo</td>\n",
       "      <td>Semarang</td>\n",
       "      <td>17</td>\n",
       "    </tr>\n",
       "    <tr>\n",
       "      <th>47</th>\n",
       "      <td>Vivo</td>\n",
       "      <td>Solo</td>\n",
       "      <td>10</td>\n",
       "    </tr>\n",
       "    <tr>\n",
       "      <th>48</th>\n",
       "      <td>Vivo</td>\n",
       "      <td>Surabaya</td>\n",
       "      <td>22</td>\n",
       "    </tr>\n",
       "    <tr>\n",
       "      <th>49</th>\n",
       "      <td>Vivo</td>\n",
       "      <td>Yogyakarta</td>\n",
       "      <td>12</td>\n",
       "    </tr>\n",
       "    <tr>\n",
       "      <th>50</th>\n",
       "      <td>Xiaomi</td>\n",
       "      <td>Balikpapan</td>\n",
       "      <td>23</td>\n",
       "    </tr>\n",
       "    <tr>\n",
       "      <th>51</th>\n",
       "      <td>Xiaomi</td>\n",
       "      <td>Bandung</td>\n",
       "      <td>21</td>\n",
       "    </tr>\n",
       "    <tr>\n",
       "      <th>52</th>\n",
       "      <td>Xiaomi</td>\n",
       "      <td>Bekasi</td>\n",
       "      <td>24</td>\n",
       "    </tr>\n",
       "    <tr>\n",
       "      <th>53</th>\n",
       "      <td>Xiaomi</td>\n",
       "      <td>Denpasar</td>\n",
       "      <td>12</td>\n",
       "    </tr>\n",
       "    <tr>\n",
       "      <th>54</th>\n",
       "      <td>Xiaomi</td>\n",
       "      <td>Depok</td>\n",
       "      <td>20</td>\n",
       "    </tr>\n",
       "    <tr>\n",
       "      <th>55</th>\n",
       "      <td>Xiaomi</td>\n",
       "      <td>Jakarta</td>\n",
       "      <td>24</td>\n",
       "    </tr>\n",
       "    <tr>\n",
       "      <th>56</th>\n",
       "      <td>Xiaomi</td>\n",
       "      <td>Semarang</td>\n",
       "      <td>17</td>\n",
       "    </tr>\n",
       "    <tr>\n",
       "      <th>57</th>\n",
       "      <td>Xiaomi</td>\n",
       "      <td>Solo</td>\n",
       "      <td>8</td>\n",
       "    </tr>\n",
       "    <tr>\n",
       "      <th>58</th>\n",
       "      <td>Xiaomi</td>\n",
       "      <td>Surabaya</td>\n",
       "      <td>17</td>\n",
       "    </tr>\n",
       "    <tr>\n",
       "      <th>59</th>\n",
       "      <td>Xiaomi</td>\n",
       "      <td>Yogyakarta</td>\n",
       "      <td>20</td>\n",
       "    </tr>\n",
       "  </tbody>\n",
       "</table>\n",
       "</div>"
      ],
      "text/plain": [
       "    Merk_Hp Nama_Lokasi  Total Pengguna\n",
       "0     Apple  Balikpapan              18\n",
       "1     Apple     Bandung              13\n",
       "2     Apple      Bekasi              14\n",
       "3     Apple    Denpasar              19\n",
       "4     Apple       Depok              20\n",
       "5     Apple     Jakarta              23\n",
       "6     Apple    Semarang              19\n",
       "7     Apple        Solo              10\n",
       "8     Apple    Surabaya              11\n",
       "9     Apple  Yogyakarta              17\n",
       "10     Oppo  Balikpapan              20\n",
       "11     Oppo     Bandung              12\n",
       "12     Oppo      Bekasi              19\n",
       "13     Oppo    Denpasar              18\n",
       "14     Oppo       Depok              17\n",
       "15     Oppo     Jakarta              18\n",
       "16     Oppo    Semarang              19\n",
       "17     Oppo        Solo              21\n",
       "18     Oppo    Surabaya              19\n",
       "19     Oppo  Yogyakarta              17\n",
       "20    Redmi  Balikpapan              18\n",
       "21    Redmi     Bandung              20\n",
       "22    Redmi      Bekasi              15\n",
       "23    Redmi    Denpasar              12\n",
       "24    Redmi       Depok              17\n",
       "25    Redmi     Jakarta              15\n",
       "26    Redmi    Semarang              23\n",
       "27    Redmi        Solo              15\n",
       "28    Redmi    Surabaya              13\n",
       "29    Redmi  Yogyakarta              25\n",
       "30  Samsung  Balikpapan              14\n",
       "31  Samsung     Bandung              11\n",
       "32  Samsung      Bekasi               6\n",
       "33  Samsung    Denpasar              21\n",
       "34  Samsung       Depok              15\n",
       "35  Samsung     Jakarta              18\n",
       "36  Samsung    Semarang              13\n",
       "37  Samsung        Solo              13\n",
       "38  Samsung    Surabaya              21\n",
       "39  Samsung  Yogyakarta              18\n",
       "40     Vivo  Balikpapan              24\n",
       "41     Vivo     Bandung              13\n",
       "42     Vivo      Bekasi              11\n",
       "43     Vivo    Denpasar               8\n",
       "44     Vivo       Depok              21\n",
       "45     Vivo     Jakarta               9\n",
       "46     Vivo    Semarang              17\n",
       "47     Vivo        Solo              10\n",
       "48     Vivo    Surabaya              22\n",
       "49     Vivo  Yogyakarta              12\n",
       "50   Xiaomi  Balikpapan              23\n",
       "51   Xiaomi     Bandung              21\n",
       "52   Xiaomi      Bekasi              24\n",
       "53   Xiaomi    Denpasar              12\n",
       "54   Xiaomi       Depok              20\n",
       "55   Xiaomi     Jakarta              24\n",
       "56   Xiaomi    Semarang              17\n",
       "57   Xiaomi        Solo               8\n",
       "58   Xiaomi    Surabaya              17\n",
       "59   Xiaomi  Yogyakarta              20"
      ]
     },
     "execution_count": 31,
     "metadata": {},
     "output_type": "execute_result"
    }
   ],
   "source": [
    "brand_by_location = df.groupby(['Merk_Hp','Nama_Lokasi'])['Nama_Lokasi'].count().reset_index(name= 'Total Pengguna')\n",
    "brand_by_location"
   ]
  },
  {
   "cell_type": "code",
   "execution_count": 32,
   "metadata": {},
   "outputs": [
    {
     "data": {
      "image/png": "[encoded data removed]",
      "text/plain": [
       "<Figure size 1400x700 with 1 Axes>"
      ]
     },
     "metadata": {},
     "output_type": "display_data"
    }
   ],
   "source": [
    "# Membuat plot\n",
    "plt.figure(figsize=(14, 7))\n",
    "sns.barplot(data=brand_by_location, x=\"Nama_Lokasi\", y=\"Total Pengguna\", hue=\"Merk_Hp\", palette=\"Set2\")\n",
    "\n",
    "# Menambahkan label dan judul\n",
    "plt.title(\"Jumlah Pengguna Berdasarkan Merek Hp dan Lokasi\", fontsize=16)\n",
    "plt.xlabel(\"Nama Lokasi\", fontsize=14)\n",
    "plt.ylabel(\"Total Pengguna\", fontsize=14)\n",
    "plt.legend(title=\"Merk Hp\")\n",
    "\n",
    "# Menampilkan plot\n",
    "plt.tight_layout()\n",
    "plt.show()"
   ]
  },
  {
   "cell_type": "markdown",
   "metadata": {},
   "source": [
    "Dari Visualisasi diatas,diketahui :\n",
    "- Variasi Preferensi Merek di Setiap Kota:\n",
    "    - Tidak Ada Dominasi Tunggal: Tidak ada satu merek yang secara dominan mendominasi seluruh kota. Hal ini menunjukkan adanya variasi preferensi pengguna yang berbeda di setiap wilayah.\n",
    "    - Preferensi Lokal: Beberapa merek mungkin lebih populer di kota tertentu dibandingkan di kota lainnya. Hal ini bisa dipengaruhi oleh berbagai - - faktor, seperti harga, ketersediaan, kampanye pemasaran, dan tren lokal.\n",
    "\n",
    "- Popularitas Merek Secara Umum:\n",
    "    - Merek Teratas: Beberapa merek mungkin muncul secara konsisten di posisi teratas pada grafik di berbagai kota, yang menunjukkan popularitasnya secara umum.\n",
    "    - Merek Niche: Beberapa merek mungkin hanya populer di kota-kota tertentu, yang menunjukkan bahwa mereka memiliki pangsa pasar yang lebih spesifik.\n",
    "\n",
    "- Potensi Pasar:\n",
    "   - Kota dengan Pertumbuhan Tinggi: Kota-kota dengan peningkatan jumlah pengguna untuk merek tertentu dapat menjadi target pasar untuk ekspansi atau kampanye pemasaran lebih lanjut.\n",
    "   - Kota dengan Potensi Belum Tergarap: Kota-kota dengan pangsa pasar yang lebih kecil untuk merek tertentu dapat menjadi peluang untuk meningkatkan penetrasi pasar dan mendapatkan lebih banyak pengguna."
   ]
  },
  {
   "cell_type": "markdown",
   "metadata": {},
   "source": [
    "# **Kesimpulan:**\n",
    "\n",
    "1. Preferensi Merek Berdasarkan Kelompok Usia:\n",
    "    - Dewasa: Kelompok dewasa menunjukkan preferensi yang cukup beragam terhadap berbagai merek ponsel seperti Apple, Oppo, Redmi, Samsung, Vivo, dan Xiaomi. Hal ini menunjukkan bahwa dewasa lebih terbuka terhadap berbagai pilihan ponsel dengan fitur dan harga yang beragam.\n",
    "    - Remaja: Kelompok remaja lebih condong memilih Apple, meskipun Xiaomi juga cukup populer. Ketertarikan pada Apple mungkin disebabkan oleh faktor prestise dan desain ponsel yang lebih menarik.\n",
    "    - Lansia: Kelompok lansia memiliki minat yang relatif rendah terhadap ponsel pintar. Namun, di antara merek yang dipilih, Apple dan Samsung lebih disukai karena kualitas dan kemudahan penggunaan.\n",
    "\n",
    "2. Pola Aktivitas Digital Berdasarkan Waktu:\n",
    "    - Dewasa: Kelompok dewasa cenderung aktif di waktu pagi dan malam hari, menunjukkan padatnya kegiatan mereka pada siang hari untuk bekerja dan - lebih memilih beristirahat pada dini hari.\n",
    "    - Remaja: Remaja cenderung aktif pada pagi dan dini hari, menunjukkan pola tidur yang lebih larut dan gaya hidup yang lebih fleksibel dalam - mengatur waktu.\n",
    "    - Lansia: Kelompok lansia cenderung memiliki minat digital yang lebih rendah dibandingkan dengan kelompok lainnya dan akses digital mereka cenderung merata sepanjang hari.\n",
    "\n",
    "3. Aktivitas Digital Populer:\n",
    "\n",
    "    - Gaming: Aktivitas gaming menjadi favorit di malam hari, menyasar berbagai kelompok usia.\n",
    "    - Shopping Online: Lebih populer di kalangan dewasa, terutama pada pagi dan siang hari, mencerminkan kebiasaan belanja saat memiliki waktu luang.\n",
    "    - Media Sosial & Streaming: Populer di semua kelompok usia, dengan penggunaan lebih tinggi pada malam dan pagi hari.\n"
   ]
  },
  {
   "cell_type": "markdown",
   "metadata": {},
   "source": [
    "# **Rekomendasi Bisnis:**\n",
    "\n",
    "1. Segmentasi Pasar Berdasarkan Usia dan Preferensi Merek:\n",
    "\n",
    "    - Untuk pasar dewasa, strategi pemasaran dapat difokuskan pada variasi merek dan fitur, dengan mengutamakan keseimbangan antara harga dan kualitas. Merek seperti Apple, Xiaomi, dan Samsung dapat dijadikan fokus promosi.\n",
    "    - Untuk remaja, lebih baik memprioritaskan Apple sebagai merek utama dalam promosi. Konten dan kampanye yang menarik bagi mereka, seperti tren terbaru atau promosi harga, akan sangat efektif.\n",
    "    - Bagi lansia, penyederhanaan produk dan peningkatan fitur user-friendly seperti antarmuka yang lebih ramah pengguna pada Apple dan Samsung dapat meningkatkan adopsi ponsel pintar di kalangan mereka.\n",
    "\n",
    "2. Pemasaran Berdasarkan Waktu Aktivitas Digital:\n",
    "\n",
    "    - Untuk dewasa, tawarkan promosi produk pada malam hari atau pagi hari ketika mereka lebih aktif. Pertimbangkan iklan yang berfokus pada hiburan atau keseimbangan hidup antara pekerjaan dan relaksasi.\n",
    "    - Untuk remaja, pemasaran bisa lebih difokuskan pada pagi dan dini hari dengan produk-produk yang menonjolkan hiburan dan tren terkini, seperti aplikasi dan game.\n",
    "    - Bagi lansia, pemasaran lebih efektif dengan menawarkan informasi yang mudah diakses di sepanjang hari dan mungkin lebih fokus pada kemudahan penggunaan.\n",
    "\n",
    "3. Optimasi Konten Digital:\n",
    "\n",
    "    - Gaming: Fokuskan iklan game dan aplikasi hiburan pada malam hari, saat penggunaan lebih tinggi, dengan penawaran produk atau bundle untuk berbagai segmen usia.\n",
    "    - Belanja Online: Tawarkan diskon atau penawaran khusus di pagi dan siang hari, mengingat kebiasaan dewasa yang lebih sering berbelanja pada waktu tersebut.\n",
    "    - Streaming dan Media Sosial: Lakukan promosi untuk aplikasi streaming dan media sosial di malam dan pagi hari, dengan menyesuaikan jenis konten untuk masing-masing kelompok usia.\n",
    "\n",
    "4. Personalisasi Pengalaman Pengguna:\n",
    "\n",
    "    Sesuaikan rekomendasi produk dan promosi berdasarkan usia dan preferensi pelanggan. Misalnya, tawarkan game dengan tingkat kompleksitas lebih tinggi untuk dewasa dan game sosial untuk remaja. Berikan kemudahan dalam pemilihan produk bagi lansia dengan fitur yang lebih sederhana."
   ]
  }
 ],
 "metadata": {
  "kernelspec": {
   "display_name": "base",
   "language": "python",
   "name": "python3"
  },
  "language_info": {
   "codemirror_mode": {
    "name": "ipython",
    "version": 3
   },
   "file_extension": ".py",
   "mimetype": "text/x-python",
   "name": "python",
   "nbconvert_exporter": "python",
   "pygments_lexer": "ipython3",
   "version": "3.12.4"
  }
 },
 "nbformat": 4,
 "nbformat_minor": 2
}
